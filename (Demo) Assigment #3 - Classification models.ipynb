{
 "cells": [
  {
   "cell_type": "code",
   "execution_count": 1,
   "id": "6d2a905e",
   "metadata": {},
   "outputs": [],
   "source": [
    "import numpy as np\n",
    "import pandas as pd\n",
    "import matplotlib.pyplot as plt\n",
    "import seaborn as sns\n",
    "\n",
    "from sklearn.preprocessing import LabelEncoder\n",
    "import collections\n",
    "from sklearn import tree\n",
    "from sklearn.model_selection import GridSearchCV, cross_val_score\n",
    "from sklearn import preprocessing\n",
    "from sklearn.tree import DecisionTreeClassifier, export_graphviz\n",
    "from sklearn.ensemble import RandomForestClassifier\n",
    "from sklearn.metrics import accuracy_score\n",
    "from ipywidgets import Image\n",
    "from io import StringIO\n",
    "import pydotplus #pip install pydotplus\n",
    "\n",
    "%matplotlib inline\n",
    "# sns.set()"
   ]
  },
  {
   "cell_type": "code",
   "execution_count": 2,
   "id": "ac07a013",
   "metadata": {},
   "outputs": [],
   "source": [
    "# Create the dataframe with dummy variables\n",
    "def create_df(dic, feature_list):\n",
    "    out = pd.DataFrame(dic)\n",
    "    out = pd.concat([out, pd.get_dummies(out[feature_list])], axis=1)\n",
    "    out.drop(feature_list, axis=1, inplace=True)\n",
    "    return out\n",
    "\n",
    "# Some feature values are present in train and absent in test and vice-versa\n",
    "def intersect_features(train, test):\n",
    "    common_feat = list(set(train.keys()) & set(test.keys()))\n",
    "    return train[common_feat], test[common_feat]"
   ]
  },
  {
   "cell_type": "code",
   "execution_count": 3,
   "id": "19a7d3cc",
   "metadata": {},
   "outputs": [],
   "source": [
    "features = ['Looks', 'Alcoholic_beverage', 'Eloquence', 'Money_spent']"
   ]
  },
  {
   "cell_type": "code",
   "execution_count": 4,
   "id": "11008ef3",
   "metadata": {},
   "outputs": [
    {
     "data": {
      "text/html": [
       "<div>\n",
       "<style scoped>\n",
       "    .dataframe tbody tr th:only-of-type {\n",
       "        vertical-align: middle;\n",
       "    }\n",
       "\n",
       "    .dataframe tbody tr th {\n",
       "        vertical-align: top;\n",
       "    }\n",
       "\n",
       "    .dataframe thead th {\n",
       "        text-align: right;\n",
       "    }\n",
       "</style>\n",
       "<table border=\"1\" class=\"dataframe\">\n",
       "  <thead>\n",
       "    <tr style=\"text-align: right;\">\n",
       "      <th></th>\n",
       "      <th>Will_go</th>\n",
       "      <th>Looks_handsome</th>\n",
       "      <th>Looks_repulsive</th>\n",
       "      <th>Alcoholic_beverage_no</th>\n",
       "      <th>Alcoholic_beverage_yes</th>\n",
       "      <th>Eloquence_average</th>\n",
       "      <th>Eloquence_high</th>\n",
       "      <th>Eloquence_low</th>\n",
       "      <th>Money_spent_little</th>\n",
       "      <th>Money_spent_lots</th>\n",
       "    </tr>\n",
       "  </thead>\n",
       "  <tbody>\n",
       "    <tr>\n",
       "      <th>0</th>\n",
       "      <td>0</td>\n",
       "      <td>1</td>\n",
       "      <td>0</td>\n",
       "      <td>0</td>\n",
       "      <td>1</td>\n",
       "      <td>0</td>\n",
       "      <td>1</td>\n",
       "      <td>0</td>\n",
       "      <td>0</td>\n",
       "      <td>1</td>\n",
       "    </tr>\n",
       "    <tr>\n",
       "      <th>1</th>\n",
       "      <td>1</td>\n",
       "      <td>1</td>\n",
       "      <td>0</td>\n",
       "      <td>0</td>\n",
       "      <td>1</td>\n",
       "      <td>0</td>\n",
       "      <td>0</td>\n",
       "      <td>1</td>\n",
       "      <td>1</td>\n",
       "      <td>0</td>\n",
       "    </tr>\n",
       "    <tr>\n",
       "      <th>2</th>\n",
       "      <td>0</td>\n",
       "      <td>1</td>\n",
       "      <td>0</td>\n",
       "      <td>1</td>\n",
       "      <td>0</td>\n",
       "      <td>1</td>\n",
       "      <td>0</td>\n",
       "      <td>0</td>\n",
       "      <td>0</td>\n",
       "      <td>1</td>\n",
       "    </tr>\n",
       "    <tr>\n",
       "      <th>3</th>\n",
       "      <td>1</td>\n",
       "      <td>0</td>\n",
       "      <td>1</td>\n",
       "      <td>1</td>\n",
       "      <td>0</td>\n",
       "      <td>1</td>\n",
       "      <td>0</td>\n",
       "      <td>0</td>\n",
       "      <td>1</td>\n",
       "      <td>0</td>\n",
       "    </tr>\n",
       "    <tr>\n",
       "      <th>4</th>\n",
       "      <td>1</td>\n",
       "      <td>0</td>\n",
       "      <td>1</td>\n",
       "      <td>0</td>\n",
       "      <td>1</td>\n",
       "      <td>0</td>\n",
       "      <td>0</td>\n",
       "      <td>1</td>\n",
       "      <td>0</td>\n",
       "      <td>1</td>\n",
       "    </tr>\n",
       "    <tr>\n",
       "      <th>5</th>\n",
       "      <td>0</td>\n",
       "      <td>0</td>\n",
       "      <td>1</td>\n",
       "      <td>0</td>\n",
       "      <td>1</td>\n",
       "      <td>0</td>\n",
       "      <td>1</td>\n",
       "      <td>0</td>\n",
       "      <td>0</td>\n",
       "      <td>1</td>\n",
       "    </tr>\n",
       "    <tr>\n",
       "      <th>6</th>\n",
       "      <td>0</td>\n",
       "      <td>1</td>\n",
       "      <td>0</td>\n",
       "      <td>0</td>\n",
       "      <td>1</td>\n",
       "      <td>1</td>\n",
       "      <td>0</td>\n",
       "      <td>0</td>\n",
       "      <td>0</td>\n",
       "      <td>1</td>\n",
       "    </tr>\n",
       "  </tbody>\n",
       "</table>\n",
       "</div>"
      ],
      "text/plain": [
       "   Will_go  Looks_handsome  Looks_repulsive  Alcoholic_beverage_no  \\\n",
       "0        0               1                0                      0   \n",
       "1        1               1                0                      0   \n",
       "2        0               1                0                      1   \n",
       "3        1               0                1                      1   \n",
       "4        1               0                1                      0   \n",
       "5        0               0                1                      0   \n",
       "6        0               1                0                      0   \n",
       "\n",
       "   Alcoholic_beverage_yes  Eloquence_average  Eloquence_high  Eloquence_low  \\\n",
       "0                       1                  0               1              0   \n",
       "1                       1                  0               0              1   \n",
       "2                       0                  1               0              0   \n",
       "3                       0                  1               0              0   \n",
       "4                       1                  0               0              1   \n",
       "5                       1                  0               1              0   \n",
       "6                       1                  1               0              0   \n",
       "\n",
       "   Money_spent_little  Money_spent_lots  \n",
       "0                   0                 1  \n",
       "1                   1                 0  \n",
       "2                   0                 1  \n",
       "3                   1                 0  \n",
       "4                   0                 1  \n",
       "5                   0                 1  \n",
       "6                   0                 1  "
      ]
     },
     "execution_count": 4,
     "metadata": {},
     "output_type": "execute_result"
    }
   ],
   "source": [
    "df_train = {}\n",
    "\n",
    "df_train['Looks'] = ['handsome', 'handsome', 'handsome', 'repulsive',\n",
    "                     'repulsive', 'repulsive', 'handsome']\n",
    "df_train['Alcoholic_beverage'] = ['yes', 'yes', 'no', 'no', 'yes',\n",
    "                                  'yes', 'yes']\n",
    "df_train['Eloquence'] = ['high', 'low', 'average', 'average', 'low',\n",
    "                         'high', 'average']\n",
    "df_train['Money_spent'] = ['lots', 'little', 'lots', 'little', 'lots',\n",
    "                           'lots', 'lots']\n",
    "df_train['Will_go'] = LabelEncoder().fit_transform(['+', '-', '+',\n",
    "                                                    '-', '-', '+',\n",
    "                                                    '+'])\n",
    "df_train = create_df(df_train, features)\n",
    "df_train"
   ]
  },
  {
   "cell_type": "code",
   "execution_count": 5,
   "id": "fc4d12c0",
   "metadata": {},
   "outputs": [
    {
     "data": {
      "text/html": [
       "<div>\n",
       "<style scoped>\n",
       "    .dataframe tbody tr th:only-of-type {\n",
       "        vertical-align: middle;\n",
       "    }\n",
       "\n",
       "    .dataframe tbody tr th {\n",
       "        vertical-align: top;\n",
       "    }\n",
       "\n",
       "    .dataframe thead th {\n",
       "        text-align: right;\n",
       "    }\n",
       "</style>\n",
       "<table border=\"1\" class=\"dataframe\">\n",
       "  <thead>\n",
       "    <tr style=\"text-align: right;\">\n",
       "      <th></th>\n",
       "      <th>Looks_handsome</th>\n",
       "      <th>Looks_repulsive</th>\n",
       "      <th>Alcoholic_beverage_no</th>\n",
       "      <th>Alcoholic_beverage_yes</th>\n",
       "      <th>Eloquence_average</th>\n",
       "      <th>Eloquence_high</th>\n",
       "      <th>Money_spent_little</th>\n",
       "      <th>Money_spent_lots</th>\n",
       "    </tr>\n",
       "  </thead>\n",
       "  <tbody>\n",
       "    <tr>\n",
       "      <th>0</th>\n",
       "      <td>1</td>\n",
       "      <td>0</td>\n",
       "      <td>1</td>\n",
       "      <td>0</td>\n",
       "      <td>1</td>\n",
       "      <td>0</td>\n",
       "      <td>0</td>\n",
       "      <td>1</td>\n",
       "    </tr>\n",
       "    <tr>\n",
       "      <th>1</th>\n",
       "      <td>1</td>\n",
       "      <td>0</td>\n",
       "      <td>0</td>\n",
       "      <td>1</td>\n",
       "      <td>0</td>\n",
       "      <td>1</td>\n",
       "      <td>1</td>\n",
       "      <td>0</td>\n",
       "    </tr>\n",
       "    <tr>\n",
       "      <th>2</th>\n",
       "      <td>0</td>\n",
       "      <td>1</td>\n",
       "      <td>0</td>\n",
       "      <td>1</td>\n",
       "      <td>1</td>\n",
       "      <td>0</td>\n",
       "      <td>0</td>\n",
       "      <td>1</td>\n",
       "    </tr>\n",
       "  </tbody>\n",
       "</table>\n",
       "</div>"
      ],
      "text/plain": [
       "   Looks_handsome  Looks_repulsive  Alcoholic_beverage_no  \\\n",
       "0               1                0                      1   \n",
       "1               1                0                      0   \n",
       "2               0                1                      0   \n",
       "\n",
       "   Alcoholic_beverage_yes  Eloquence_average  Eloquence_high  \\\n",
       "0                       0                  1               0   \n",
       "1                       1                  0               1   \n",
       "2                       1                  1               0   \n",
       "\n",
       "   Money_spent_little  Money_spent_lots  \n",
       "0                   0                 1  \n",
       "1                   1                 0  \n",
       "2                   0                 1  "
      ]
     },
     "execution_count": 5,
     "metadata": {},
     "output_type": "execute_result"
    }
   ],
   "source": [
    "df_test = {}\n",
    "\n",
    "df_test['Looks'] = ['handsome', 'handsome', 'repulsive']\n",
    "df_test['Alcoholic_beverage'] = ['no', 'yes', 'yes']\n",
    "df_test['Eloquence'] = ['average', 'high', 'average']\n",
    "df_test['Money_spent'] = ['lots', 'little', 'lots']\n",
    "\n",
    "df_test = create_df(df_test, features)\n",
    "df_test"
   ]
  },
  {
   "cell_type": "code",
   "execution_count": 6,
   "id": "697b662b",
   "metadata": {},
   "outputs": [
    {
     "data": {
      "text/html": [
       "<div>\n",
       "<style scoped>\n",
       "    .dataframe tbody tr th:only-of-type {\n",
       "        vertical-align: middle;\n",
       "    }\n",
       "\n",
       "    .dataframe tbody tr th {\n",
       "        vertical-align: top;\n",
       "    }\n",
       "\n",
       "    .dataframe thead th {\n",
       "        text-align: right;\n",
       "    }\n",
       "</style>\n",
       "<table border=\"1\" class=\"dataframe\">\n",
       "  <thead>\n",
       "    <tr style=\"text-align: right;\">\n",
       "      <th></th>\n",
       "      <th>Alcoholic_beverage_yes</th>\n",
       "      <th>Eloquence_average</th>\n",
       "      <th>Looks_repulsive</th>\n",
       "      <th>Alcoholic_beverage_no</th>\n",
       "      <th>Eloquence_high</th>\n",
       "      <th>Money_spent_little</th>\n",
       "      <th>Money_spent_lots</th>\n",
       "      <th>Looks_handsome</th>\n",
       "    </tr>\n",
       "  </thead>\n",
       "  <tbody>\n",
       "    <tr>\n",
       "      <th>0</th>\n",
       "      <td>1</td>\n",
       "      <td>0</td>\n",
       "      <td>0</td>\n",
       "      <td>0</td>\n",
       "      <td>1</td>\n",
       "      <td>0</td>\n",
       "      <td>1</td>\n",
       "      <td>1</td>\n",
       "    </tr>\n",
       "    <tr>\n",
       "      <th>1</th>\n",
       "      <td>1</td>\n",
       "      <td>0</td>\n",
       "      <td>0</td>\n",
       "      <td>0</td>\n",
       "      <td>0</td>\n",
       "      <td>1</td>\n",
       "      <td>0</td>\n",
       "      <td>1</td>\n",
       "    </tr>\n",
       "    <tr>\n",
       "      <th>2</th>\n",
       "      <td>0</td>\n",
       "      <td>1</td>\n",
       "      <td>0</td>\n",
       "      <td>1</td>\n",
       "      <td>0</td>\n",
       "      <td>0</td>\n",
       "      <td>1</td>\n",
       "      <td>1</td>\n",
       "    </tr>\n",
       "    <tr>\n",
       "      <th>3</th>\n",
       "      <td>0</td>\n",
       "      <td>1</td>\n",
       "      <td>1</td>\n",
       "      <td>1</td>\n",
       "      <td>0</td>\n",
       "      <td>1</td>\n",
       "      <td>0</td>\n",
       "      <td>0</td>\n",
       "    </tr>\n",
       "    <tr>\n",
       "      <th>4</th>\n",
       "      <td>1</td>\n",
       "      <td>0</td>\n",
       "      <td>1</td>\n",
       "      <td>0</td>\n",
       "      <td>0</td>\n",
       "      <td>0</td>\n",
       "      <td>1</td>\n",
       "      <td>0</td>\n",
       "    </tr>\n",
       "    <tr>\n",
       "      <th>5</th>\n",
       "      <td>1</td>\n",
       "      <td>0</td>\n",
       "      <td>1</td>\n",
       "      <td>0</td>\n",
       "      <td>1</td>\n",
       "      <td>0</td>\n",
       "      <td>1</td>\n",
       "      <td>0</td>\n",
       "    </tr>\n",
       "    <tr>\n",
       "      <th>6</th>\n",
       "      <td>1</td>\n",
       "      <td>1</td>\n",
       "      <td>0</td>\n",
       "      <td>0</td>\n",
       "      <td>0</td>\n",
       "      <td>0</td>\n",
       "      <td>1</td>\n",
       "      <td>1</td>\n",
       "    </tr>\n",
       "  </tbody>\n",
       "</table>\n",
       "</div>"
      ],
      "text/plain": [
       "   Alcoholic_beverage_yes  Eloquence_average  Looks_repulsive  \\\n",
       "0                       1                  0                0   \n",
       "1                       1                  0                0   \n",
       "2                       0                  1                0   \n",
       "3                       0                  1                1   \n",
       "4                       1                  0                1   \n",
       "5                       1                  0                1   \n",
       "6                       1                  1                0   \n",
       "\n",
       "   Alcoholic_beverage_no  Eloquence_high  Money_spent_little  \\\n",
       "0                      0               1                   0   \n",
       "1                      0               0                   1   \n",
       "2                      1               0                   0   \n",
       "3                      1               0                   1   \n",
       "4                      0               0                   0   \n",
       "5                      0               1                   0   \n",
       "6                      0               0                   0   \n",
       "\n",
       "   Money_spent_lots  Looks_handsome  \n",
       "0                 1               1  \n",
       "1                 0               1  \n",
       "2                 1               1  \n",
       "3                 0               0  \n",
       "4                 1               0  \n",
       "5                 1               0  \n",
       "6                 1               1  "
      ]
     },
     "execution_count": 6,
     "metadata": {},
     "output_type": "execute_result"
    }
   ],
   "source": [
    "# Some feature values are present in train and absent in test and vice-versa.\n",
    "y = df_train['Will_go']\n",
    "\n",
    "df_train, df_test = intersect_features(df_train, df_test)\n",
    "df_train"
   ]
  },
  {
   "cell_type": "code",
   "execution_count": 7,
   "id": "5a4a2ea8",
   "metadata": {},
   "outputs": [
    {
     "data": {
      "text/html": [
       "<div>\n",
       "<style scoped>\n",
       "    .dataframe tbody tr th:only-of-type {\n",
       "        vertical-align: middle;\n",
       "    }\n",
       "\n",
       "    .dataframe tbody tr th {\n",
       "        vertical-align: top;\n",
       "    }\n",
       "\n",
       "    .dataframe thead th {\n",
       "        text-align: right;\n",
       "    }\n",
       "</style>\n",
       "<table border=\"1\" class=\"dataframe\">\n",
       "  <thead>\n",
       "    <tr style=\"text-align: right;\">\n",
       "      <th></th>\n",
       "      <th>Alcoholic_beverage_yes</th>\n",
       "      <th>Eloquence_average</th>\n",
       "      <th>Looks_repulsive</th>\n",
       "      <th>Alcoholic_beverage_no</th>\n",
       "      <th>Eloquence_high</th>\n",
       "      <th>Money_spent_little</th>\n",
       "      <th>Money_spent_lots</th>\n",
       "      <th>Looks_handsome</th>\n",
       "    </tr>\n",
       "  </thead>\n",
       "  <tbody>\n",
       "    <tr>\n",
       "      <th>0</th>\n",
       "      <td>0</td>\n",
       "      <td>1</td>\n",
       "      <td>0</td>\n",
       "      <td>1</td>\n",
       "      <td>0</td>\n",
       "      <td>0</td>\n",
       "      <td>1</td>\n",
       "      <td>1</td>\n",
       "    </tr>\n",
       "    <tr>\n",
       "      <th>1</th>\n",
       "      <td>1</td>\n",
       "      <td>0</td>\n",
       "      <td>0</td>\n",
       "      <td>0</td>\n",
       "      <td>1</td>\n",
       "      <td>1</td>\n",
       "      <td>0</td>\n",
       "      <td>1</td>\n",
       "    </tr>\n",
       "    <tr>\n",
       "      <th>2</th>\n",
       "      <td>1</td>\n",
       "      <td>1</td>\n",
       "      <td>1</td>\n",
       "      <td>0</td>\n",
       "      <td>0</td>\n",
       "      <td>0</td>\n",
       "      <td>1</td>\n",
       "      <td>0</td>\n",
       "    </tr>\n",
       "  </tbody>\n",
       "</table>\n",
       "</div>"
      ],
      "text/plain": [
       "   Alcoholic_beverage_yes  Eloquence_average  Looks_repulsive  \\\n",
       "0                       0                  1                0   \n",
       "1                       1                  0                0   \n",
       "2                       1                  1                1   \n",
       "\n",
       "   Alcoholic_beverage_no  Eloquence_high  Money_spent_little  \\\n",
       "0                      1               0                   0   \n",
       "1                      0               1                   1   \n",
       "2                      0               0                   0   \n",
       "\n",
       "   Money_spent_lots  Looks_handsome  \n",
       "0                 1               1  \n",
       "1                 0               1  \n",
       "2                 1               0  "
      ]
     },
     "execution_count": 7,
     "metadata": {},
     "output_type": "execute_result"
    }
   ],
   "source": [
    "df_test"
   ]
  },
  {
   "cell_type": "code",
   "execution_count": null,
   "id": "40a56d9e",
   "metadata": {},
   "outputs": [],
   "source": []
  },
  {
   "cell_type": "markdown",
   "id": "f2d5d459",
   "metadata": {},
   "source": [
    "**Draw a decision tree (by hand or in any graphics editor) for this dataset. Optionally you can also implement tree construction and draw it here.**"
   ]
  },
  {
   "cell_type": "markdown",
   "id": "0cad856b",
   "metadata": {},
   "source": [
    "#### What is the entropy  S0  of the initial system? By system states, we mean values of the binary feature \"Will_go\" - 0 or 1 - two states in total."
   ]
  },
  {
   "cell_type": "code",
   "execution_count": 8,
   "id": "11df4ede",
   "metadata": {},
   "outputs": [
    {
     "data": {
      "text/plain": [
       "DecisionTreeClassifier(criterion='entropy', random_state=42)"
      ]
     },
     "execution_count": 8,
     "metadata": {},
     "output_type": "execute_result"
    }
   ],
   "source": [
    "tree_clf = DecisionTreeClassifier(criterion='entropy', random_state=42)\n",
    "tree_clf.fit(df_train, y)"
   ]
  },
  {
   "cell_type": "code",
   "execution_count": 9,
   "id": "4e459e47",
   "metadata": {},
   "outputs": [
    {
     "data": {
      "text/plain": [
       "[Text(186.0, 380.52, 'Money_spent_lots <= 0.5\\nentropy = 0.985\\nsamples = 7\\nvalue = [4, 3]'),\n",
       " Text(93.0, 271.8, 'entropy = 0.0\\nsamples = 2\\nvalue = [0, 2]'),\n",
       " Text(279.0, 271.8, 'Looks_repulsive <= 0.5\\nentropy = 0.722\\nsamples = 5\\nvalue = [4, 1]'),\n",
       " Text(186.0, 163.07999999999998, 'entropy = 0.0\\nsamples = 3\\nvalue = [3, 0]'),\n",
       " Text(372.0, 163.07999999999998, 'Eloquence_high <= 0.5\\nentropy = 1.0\\nsamples = 2\\nvalue = [1, 1]'),\n",
       " Text(279.0, 54.360000000000014, 'entropy = 0.0\\nsamples = 1\\nvalue = [0, 1]'),\n",
       " Text(465.0, 54.360000000000014, 'entropy = 0.0\\nsamples = 1\\nvalue = [1, 0]')]"
      ]
     },
     "execution_count": 9,
     "metadata": {},
     "output_type": "execute_result"
    },
    {
     "data": {
      "image/png": "[encoded data removed]",
      "text/plain": [
       "<Figure size 720x576 with 1 Axes>"
      ]
     },
     "metadata": {
      "needs_background": "light"
     },
     "output_type": "display_data"
    }
   ],
   "source": [
    "fig = plt.figure(figsize=(10, 8))\n",
    "tree.plot_tree(tree_clf, feature_names=df_train.columns,filled=True)"
   ]
  },
  {
   "cell_type": "markdown",
   "id": "9026d672",
   "metadata": {},
   "source": [
    "A: 0.985"
   ]
  },
  {
   "cell_type": "code",
   "execution_count": 10,
   "id": "d42ff814",
   "metadata": {},
   "outputs": [
    {
     "name": "stdout",
     "output_type": "stream",
     "text": [
      "Validation scores:  [0.66666667 0.5        0.5       ]\n",
      "Average val score:  0.5555555555555555\n"
     ]
    }
   ],
   "source": [
    "# Extra\n",
    "val_scores = cross_val_score(tree_clf, df_train, y, cv=3, scoring='accuracy', n_jobs=-1)\n",
    "print(\"Validation scores: \", val_scores)\n",
    "print(\"Average val score: \", np.mean(val_scores))"
   ]
  },
  {
   "cell_type": "markdown",
   "id": "efd9aa8d",
   "metadata": {},
   "source": [
    "KEKW xd"
   ]
  },
  {
   "cell_type": "markdown",
   "id": "3528b202",
   "metadata": {},
   "source": [
    "#### Let's split the data by the feature \"Looks_handsome\". What is the entropy  S1  of the left group - the one with \"Looks_handsome\". What is the entropy  S2  in the opposite group? What is the information gain (IG) if we consider such a split?"
   ]
  },
  {
   "cell_type": "markdown",
   "id": "2c6472ef",
   "metadata": {},
   "source": [
    "looks_awesome, entropy (s0) = 0.985\n",
    "\n",
    "* looks_awesome (1), entropy (s1) = 0.811\n",
    "\n",
    "* looks_awesome (1), entropy (s1) = 0.811\n",
    "\n",
    "IG = 0.128\n",
    "\n",
    "-\n",
    "\n",
    "Formulas:\n",
    "\n",
    "s0 = - (3/7) log2(3/7) - (4/7) log2(4/7)\n",
    "* **Note:** 3/7 means 3 (will_go = 1) of 7 (looks_handsome), 4/7 means 4 (will_go = 0) of 4 (looks_handsome) \n",
    "\n",
    "s1 = - (1/4) log2(1/4) - (3/4) log2(3/4)\n",
    "\n",
    "* **Note:** 1/4 means 1 (will_go = 1) of 4 (looks_handsome = 1), 3/4 means 3 (will_go = 0) of 4 (looks_handsome = 1) \n",
    "\n",
    "s2 = - (2/3) log2(2/3) - (1/3) log2(1/3)\n",
    "* **Note:** 2/3 means 2 (will_go = 1) of 3 (looks_handsome = 0), 1/3 means 1 (will_go = 0) of 3 (looks_handsome = 0) "
   ]
  },
  {
   "cell_type": "markdown",
   "id": "7397e16a",
   "metadata": {},
   "source": [
    "#### What is the entropy of the state given by the list balls_left?"
   ]
  },
  {
   "cell_type": "code",
   "execution_count": 11,
   "id": "9b8b351f",
   "metadata": {},
   "outputs": [],
   "source": [
    "# 1 means blue ball and 0 yellow ball\n",
    "balls = [1 for i in range(9)] + [0 for i in range(11)] # 9 blue and 11 yellow balls\n",
    "\n",
    "balls_left = [1 for i in range(8)] + [0 for i in range(5)] # 8 blue - 5 yellow\n",
    "balls_right = [1 for i in range(1)] + [0 for i in range(6)] # 1 blue - 6 yellow"
   ]
  },
  {
   "cell_type": "code",
   "execution_count": 12,
   "id": "01cee9f7",
   "metadata": {},
   "outputs": [],
   "source": [
    "def calculate_entropy(data):\n",
    "    # Find out unique values in the data\n",
    "    uniques = np.unique(data)\n",
    "    occurences = {}\n",
    "    probabilities = {}\n",
    "    entropy = 0\n",
    "    for i in uniques:\n",
    "        occurences[i] = data.count(i) # Count the occurence of each unique value\n",
    "        probabilities[i] = occurences[i] / len(data) # calculate p(sub i)\n",
    "        entropy += probabilities[i] * np.log2(probabilities[i])\n",
    "    \n",
    "    return -entropy"
   ]
  },
  {
   "cell_type": "code",
   "execution_count": 13,
   "id": "27015f82",
   "metadata": {},
   "outputs": [
    {
     "name": "stdout",
     "output_type": "stream",
     "text": [
      "0.9927744539878083\n",
      "0.9612366047228759\n",
      "0.5916727785823275\n",
      "2.584962500721156\n"
     ]
    }
   ],
   "source": [
    "print(calculate_entropy(balls)) # 9 blue и 11 yellow\n",
    "print(calculate_entropy(balls_left)) # 8 blue и 5 yellow\n",
    "print(calculate_entropy(balls_right)) # 1 blue и 6 yellow\n",
    "print(calculate_entropy([1,2,3,4,5,6])) # entropy of a fair 6-sided die"
   ]
  },
  {
   "cell_type": "markdown",
   "id": "65f83902",
   "metadata": {},
   "source": [
    "A: 0.961"
   ]
  },
  {
   "cell_type": "markdown",
   "id": "5030f44a",
   "metadata": {},
   "source": [
    "#### What is the entropy of a fair dice? (where we look at a dice as a system with 6 equally probable states)?"
   ]
  },
  {
   "cell_type": "markdown",
   "id": "a8ca445d",
   "metadata": {},
   "source": [
    "A: 2.58"
   ]
  },
  {
   "cell_type": "markdown",
   "id": "f7354138",
   "metadata": {},
   "source": [
    "#### What is the information gain of splitting the initial dataset into balls_left and balls_right?"
   ]
  },
  {
   "cell_type": "code",
   "execution_count": 14,
   "id": "5d7076e3",
   "metadata": {},
   "outputs": [],
   "source": [
    "def information_gain(root, left, right):\n",
    "    ig = calculate_entropy(root)\n",
    "    for i in [left, right]:\n",
    "        ig -= (len(i)/len(root)) * calculate_entropy(i)\n",
    "    \n",
    "    return ig"
   ]
  },
  {
   "cell_type": "code",
   "execution_count": 15,
   "id": "bf3e49e3",
   "metadata": {},
   "outputs": [
    {
     "data": {
      "text/plain": [
       "0.16088518841412436"
      ]
     },
     "execution_count": 15,
     "metadata": {},
     "output_type": "execute_result"
    }
   ],
   "source": [
    "information_gain(balls, balls_left, balls_right)"
   ]
  },
  {
   "cell_type": "markdown",
   "id": "ada45b57",
   "metadata": {},
   "source": [
    "A: 0.1608 ~ 0.161"
   ]
  },
  {
   "cell_type": "code",
   "execution_count": 16,
   "id": "af75d8d8",
   "metadata": {},
   "outputs": [
    {
     "data": {
      "text/html": [
       "<div>\n",
       "<style scoped>\n",
       "    .dataframe tbody tr th:only-of-type {\n",
       "        vertical-align: middle;\n",
       "    }\n",
       "\n",
       "    .dataframe tbody tr th {\n",
       "        vertical-align: top;\n",
       "    }\n",
       "\n",
       "    .dataframe thead th {\n",
       "        text-align: right;\n",
       "    }\n",
       "</style>\n",
       "<table border=\"1\" class=\"dataframe\">\n",
       "  <thead>\n",
       "    <tr style=\"text-align: right;\">\n",
       "      <th></th>\n",
       "      <th>Age</th>\n",
       "      <th>Workclass</th>\n",
       "      <th>fnlwgt</th>\n",
       "      <th>Education</th>\n",
       "      <th>Education_Num</th>\n",
       "      <th>Martial_Status</th>\n",
       "      <th>Occupation</th>\n",
       "      <th>Relationship</th>\n",
       "      <th>Race</th>\n",
       "      <th>Sex</th>\n",
       "      <th>Capital_Gain</th>\n",
       "      <th>Capital_Loss</th>\n",
       "      <th>Hours_per_week</th>\n",
       "      <th>Country</th>\n",
       "      <th>Target</th>\n",
       "    </tr>\n",
       "  </thead>\n",
       "  <tbody>\n",
       "    <tr>\n",
       "      <th>0</th>\n",
       "      <td>39</td>\n",
       "      <td>State-gov</td>\n",
       "      <td>77516</td>\n",
       "      <td>Bachelors</td>\n",
       "      <td>13</td>\n",
       "      <td>Never-married</td>\n",
       "      <td>Adm-clerical</td>\n",
       "      <td>Not-in-family</td>\n",
       "      <td>White</td>\n",
       "      <td>Male</td>\n",
       "      <td>2174</td>\n",
       "      <td>0</td>\n",
       "      <td>40</td>\n",
       "      <td>United-States</td>\n",
       "      <td>&lt;=50K</td>\n",
       "    </tr>\n",
       "    <tr>\n",
       "      <th>1</th>\n",
       "      <td>50</td>\n",
       "      <td>Self-emp-not-inc</td>\n",
       "      <td>83311</td>\n",
       "      <td>Bachelors</td>\n",
       "      <td>13</td>\n",
       "      <td>Married-civ-spouse</td>\n",
       "      <td>Exec-managerial</td>\n",
       "      <td>Husband</td>\n",
       "      <td>White</td>\n",
       "      <td>Male</td>\n",
       "      <td>0</td>\n",
       "      <td>0</td>\n",
       "      <td>13</td>\n",
       "      <td>United-States</td>\n",
       "      <td>&lt;=50K</td>\n",
       "    </tr>\n",
       "    <tr>\n",
       "      <th>2</th>\n",
       "      <td>38</td>\n",
       "      <td>Private</td>\n",
       "      <td>215646</td>\n",
       "      <td>HS-grad</td>\n",
       "      <td>9</td>\n",
       "      <td>Divorced</td>\n",
       "      <td>Handlers-cleaners</td>\n",
       "      <td>Not-in-family</td>\n",
       "      <td>White</td>\n",
       "      <td>Male</td>\n",
       "      <td>0</td>\n",
       "      <td>0</td>\n",
       "      <td>40</td>\n",
       "      <td>United-States</td>\n",
       "      <td>&lt;=50K</td>\n",
       "    </tr>\n",
       "    <tr>\n",
       "      <th>3</th>\n",
       "      <td>53</td>\n",
       "      <td>Private</td>\n",
       "      <td>234721</td>\n",
       "      <td>11th</td>\n",
       "      <td>7</td>\n",
       "      <td>Married-civ-spouse</td>\n",
       "      <td>Handlers-cleaners</td>\n",
       "      <td>Husband</td>\n",
       "      <td>Black</td>\n",
       "      <td>Male</td>\n",
       "      <td>0</td>\n",
       "      <td>0</td>\n",
       "      <td>40</td>\n",
       "      <td>United-States</td>\n",
       "      <td>&lt;=50K</td>\n",
       "    </tr>\n",
       "    <tr>\n",
       "      <th>4</th>\n",
       "      <td>28</td>\n",
       "      <td>Private</td>\n",
       "      <td>338409</td>\n",
       "      <td>Bachelors</td>\n",
       "      <td>13</td>\n",
       "      <td>Married-civ-spouse</td>\n",
       "      <td>Prof-specialty</td>\n",
       "      <td>Wife</td>\n",
       "      <td>Black</td>\n",
       "      <td>Female</td>\n",
       "      <td>0</td>\n",
       "      <td>0</td>\n",
       "      <td>40</td>\n",
       "      <td>Cuba</td>\n",
       "      <td>&lt;=50K</td>\n",
       "    </tr>\n",
       "  </tbody>\n",
       "</table>\n",
       "</div>"
      ],
      "text/plain": [
       "   Age          Workclass  fnlwgt   Education  Education_Num  \\\n",
       "0   39          State-gov   77516   Bachelors             13   \n",
       "1   50   Self-emp-not-inc   83311   Bachelors             13   \n",
       "2   38            Private  215646     HS-grad              9   \n",
       "3   53            Private  234721        11th              7   \n",
       "4   28            Private  338409   Bachelors             13   \n",
       "\n",
       "        Martial_Status          Occupation    Relationship    Race      Sex  \\\n",
       "0        Never-married        Adm-clerical   Not-in-family   White     Male   \n",
       "1   Married-civ-spouse     Exec-managerial         Husband   White     Male   \n",
       "2             Divorced   Handlers-cleaners   Not-in-family   White     Male   \n",
       "3   Married-civ-spouse   Handlers-cleaners         Husband   Black     Male   \n",
       "4   Married-civ-spouse      Prof-specialty            Wife   Black   Female   \n",
       "\n",
       "   Capital_Gain  Capital_Loss  Hours_per_week         Country  Target  \n",
       "0          2174             0              40   United-States   <=50K  \n",
       "1             0             0              13   United-States   <=50K  \n",
       "2             0             0              40   United-States   <=50K  \n",
       "3             0             0              40   United-States   <=50K  \n",
       "4             0             0              40            Cuba   <=50K  "
      ]
     },
     "execution_count": 16,
     "metadata": {},
     "output_type": "execute_result"
    }
   ],
   "source": [
    "data_train = pd.read_csv('data/adult_train.csv', sep=';')\n",
    "data_train.head()"
   ]
  },
  {
   "cell_type": "code",
   "execution_count": 17,
   "id": "83cb7f35",
   "metadata": {},
   "outputs": [],
   "source": [
    "def strip_df(df):\n",
    "    cat_cols = df.select_dtypes(exclude='number')\n",
    "\n",
    "    for i in cat_cols.columns:\n",
    "        df[i] = df[i].str.strip()"
   ]
  },
  {
   "cell_type": "code",
   "execution_count": 18,
   "id": "6163a289",
   "metadata": {},
   "outputs": [],
   "source": [
    "strip_df(data_train)"
   ]
  },
  {
   "cell_type": "code",
   "execution_count": 19,
   "id": "b042b4e3",
   "metadata": {},
   "outputs": [
    {
     "data": {
      "text/plain": [
       "array(['Male', 'Female'], dtype=object)"
      ]
     },
     "execution_count": 19,
     "metadata": {},
     "output_type": "execute_result"
    }
   ],
   "source": [
    "data_train['Sex'].unique()"
   ]
  },
  {
   "cell_type": "code",
   "execution_count": 20,
   "id": "ee0db642",
   "metadata": {},
   "outputs": [
    {
     "data": {
      "text/html": [
       "<div>\n",
       "<style scoped>\n",
       "    .dataframe tbody tr th:only-of-type {\n",
       "        vertical-align: middle;\n",
       "    }\n",
       "\n",
       "    .dataframe tbody tr th {\n",
       "        vertical-align: top;\n",
       "    }\n",
       "\n",
       "    .dataframe thead th {\n",
       "        text-align: right;\n",
       "    }\n",
       "</style>\n",
       "<table border=\"1\" class=\"dataframe\">\n",
       "  <thead>\n",
       "    <tr style=\"text-align: right;\">\n",
       "      <th></th>\n",
       "      <th>Age</th>\n",
       "      <th>Workclass</th>\n",
       "      <th>fnlwgt</th>\n",
       "      <th>Education</th>\n",
       "      <th>Education_Num</th>\n",
       "      <th>Martial_Status</th>\n",
       "      <th>Occupation</th>\n",
       "      <th>Relationship</th>\n",
       "      <th>Race</th>\n",
       "      <th>Sex</th>\n",
       "      <th>Capital_Gain</th>\n",
       "      <th>Capital_Loss</th>\n",
       "      <th>Hours_per_week</th>\n",
       "      <th>Country</th>\n",
       "      <th>Target</th>\n",
       "    </tr>\n",
       "  </thead>\n",
       "  <tbody>\n",
       "    <tr>\n",
       "      <th>0</th>\n",
       "      <td>|1x3 Cross validator</td>\n",
       "      <td>NaN</td>\n",
       "      <td>NaN</td>\n",
       "      <td>NaN</td>\n",
       "      <td>NaN</td>\n",
       "      <td>NaN</td>\n",
       "      <td>NaN</td>\n",
       "      <td>NaN</td>\n",
       "      <td>NaN</td>\n",
       "      <td>NaN</td>\n",
       "      <td>NaN</td>\n",
       "      <td>NaN</td>\n",
       "      <td>NaN</td>\n",
       "      <td>NaN</td>\n",
       "      <td>NaN</td>\n",
       "    </tr>\n",
       "    <tr>\n",
       "      <th>1</th>\n",
       "      <td>25</td>\n",
       "      <td>Private</td>\n",
       "      <td>226802.0</td>\n",
       "      <td>11th</td>\n",
       "      <td>7.0</td>\n",
       "      <td>Never-married</td>\n",
       "      <td>Machine-op-inspct</td>\n",
       "      <td>Own-child</td>\n",
       "      <td>Black</td>\n",
       "      <td>Male</td>\n",
       "      <td>0.0</td>\n",
       "      <td>0.0</td>\n",
       "      <td>40.0</td>\n",
       "      <td>United-States</td>\n",
       "      <td>&lt;=50K.</td>\n",
       "    </tr>\n",
       "    <tr>\n",
       "      <th>2</th>\n",
       "      <td>38</td>\n",
       "      <td>Private</td>\n",
       "      <td>89814.0</td>\n",
       "      <td>HS-grad</td>\n",
       "      <td>9.0</td>\n",
       "      <td>Married-civ-spouse</td>\n",
       "      <td>Farming-fishing</td>\n",
       "      <td>Husband</td>\n",
       "      <td>White</td>\n",
       "      <td>Male</td>\n",
       "      <td>0.0</td>\n",
       "      <td>0.0</td>\n",
       "      <td>50.0</td>\n",
       "      <td>United-States</td>\n",
       "      <td>&lt;=50K.</td>\n",
       "    </tr>\n",
       "    <tr>\n",
       "      <th>3</th>\n",
       "      <td>28</td>\n",
       "      <td>Local-gov</td>\n",
       "      <td>336951.0</td>\n",
       "      <td>Assoc-acdm</td>\n",
       "      <td>12.0</td>\n",
       "      <td>Married-civ-spouse</td>\n",
       "      <td>Protective-serv</td>\n",
       "      <td>Husband</td>\n",
       "      <td>White</td>\n",
       "      <td>Male</td>\n",
       "      <td>0.0</td>\n",
       "      <td>0.0</td>\n",
       "      <td>40.0</td>\n",
       "      <td>United-States</td>\n",
       "      <td>&gt;50K.</td>\n",
       "    </tr>\n",
       "    <tr>\n",
       "      <th>4</th>\n",
       "      <td>44</td>\n",
       "      <td>Private</td>\n",
       "      <td>160323.0</td>\n",
       "      <td>Some-college</td>\n",
       "      <td>10.0</td>\n",
       "      <td>Married-civ-spouse</td>\n",
       "      <td>Machine-op-inspct</td>\n",
       "      <td>Husband</td>\n",
       "      <td>Black</td>\n",
       "      <td>Male</td>\n",
       "      <td>7688.0</td>\n",
       "      <td>0.0</td>\n",
       "      <td>40.0</td>\n",
       "      <td>United-States</td>\n",
       "      <td>&gt;50K.</td>\n",
       "    </tr>\n",
       "  </tbody>\n",
       "</table>\n",
       "</div>"
      ],
      "text/plain": [
       "                    Age   Workclass    fnlwgt      Education  Education_Num  \\\n",
       "0  |1x3 Cross validator         NaN       NaN            NaN            NaN   \n",
       "1                    25     Private  226802.0           11th            7.0   \n",
       "2                    38     Private   89814.0        HS-grad            9.0   \n",
       "3                    28   Local-gov  336951.0     Assoc-acdm           12.0   \n",
       "4                    44     Private  160323.0   Some-college           10.0   \n",
       "\n",
       "        Martial_Status          Occupation Relationship    Race    Sex  \\\n",
       "0                  NaN                 NaN          NaN     NaN    NaN   \n",
       "1        Never-married   Machine-op-inspct    Own-child   Black   Male   \n",
       "2   Married-civ-spouse     Farming-fishing      Husband   White   Male   \n",
       "3   Married-civ-spouse     Protective-serv      Husband   White   Male   \n",
       "4   Married-civ-spouse   Machine-op-inspct      Husband   Black   Male   \n",
       "\n",
       "   Capital_Gain  Capital_Loss  Hours_per_week         Country   Target  \n",
       "0           NaN           NaN             NaN             NaN      NaN  \n",
       "1           0.0           0.0            40.0   United-States   <=50K.  \n",
       "2           0.0           0.0            50.0   United-States   <=50K.  \n",
       "3           0.0           0.0            40.0   United-States    >50K.  \n",
       "4        7688.0           0.0            40.0   United-States    >50K.  "
      ]
     },
     "execution_count": 20,
     "metadata": {},
     "output_type": "execute_result"
    }
   ],
   "source": [
    "data_test = pd.read_csv('data/adult_test.csv', sep=';')\n",
    "data_test.head()"
   ]
  },
  {
   "cell_type": "code",
   "execution_count": 21,
   "id": "8f1bebcf",
   "metadata": {},
   "outputs": [
    {
     "data": {
      "text/html": [
       "<div>\n",
       "<style scoped>\n",
       "    .dataframe tbody tr th:only-of-type {\n",
       "        vertical-align: middle;\n",
       "    }\n",
       "\n",
       "    .dataframe tbody tr th {\n",
       "        vertical-align: top;\n",
       "    }\n",
       "\n",
       "    .dataframe thead th {\n",
       "        text-align: right;\n",
       "    }\n",
       "</style>\n",
       "<table border=\"1\" class=\"dataframe\">\n",
       "  <thead>\n",
       "    <tr style=\"text-align: right;\">\n",
       "      <th></th>\n",
       "      <th>Age</th>\n",
       "      <th>Workclass</th>\n",
       "      <th>fnlwgt</th>\n",
       "      <th>Education</th>\n",
       "      <th>Education_Num</th>\n",
       "      <th>Martial_Status</th>\n",
       "      <th>Occupation</th>\n",
       "      <th>Relationship</th>\n",
       "      <th>Race</th>\n",
       "      <th>Sex</th>\n",
       "      <th>Capital_Gain</th>\n",
       "      <th>Capital_Loss</th>\n",
       "      <th>Hours_per_week</th>\n",
       "      <th>Country</th>\n",
       "      <th>Target</th>\n",
       "    </tr>\n",
       "  </thead>\n",
       "  <tbody>\n",
       "    <tr>\n",
       "      <th>0</th>\n",
       "      <td>25</td>\n",
       "      <td>Private</td>\n",
       "      <td>226802.0</td>\n",
       "      <td>11th</td>\n",
       "      <td>7.0</td>\n",
       "      <td>Never-married</td>\n",
       "      <td>Machine-op-inspct</td>\n",
       "      <td>Own-child</td>\n",
       "      <td>Black</td>\n",
       "      <td>Male</td>\n",
       "      <td>0.0</td>\n",
       "      <td>0.0</td>\n",
       "      <td>40.0</td>\n",
       "      <td>United-States</td>\n",
       "      <td>&lt;=50K.</td>\n",
       "    </tr>\n",
       "    <tr>\n",
       "      <th>1</th>\n",
       "      <td>38</td>\n",
       "      <td>Private</td>\n",
       "      <td>89814.0</td>\n",
       "      <td>HS-grad</td>\n",
       "      <td>9.0</td>\n",
       "      <td>Married-civ-spouse</td>\n",
       "      <td>Farming-fishing</td>\n",
       "      <td>Husband</td>\n",
       "      <td>White</td>\n",
       "      <td>Male</td>\n",
       "      <td>0.0</td>\n",
       "      <td>0.0</td>\n",
       "      <td>50.0</td>\n",
       "      <td>United-States</td>\n",
       "      <td>&lt;=50K.</td>\n",
       "    </tr>\n",
       "    <tr>\n",
       "      <th>2</th>\n",
       "      <td>28</td>\n",
       "      <td>Local-gov</td>\n",
       "      <td>336951.0</td>\n",
       "      <td>Assoc-acdm</td>\n",
       "      <td>12.0</td>\n",
       "      <td>Married-civ-spouse</td>\n",
       "      <td>Protective-serv</td>\n",
       "      <td>Husband</td>\n",
       "      <td>White</td>\n",
       "      <td>Male</td>\n",
       "      <td>0.0</td>\n",
       "      <td>0.0</td>\n",
       "      <td>40.0</td>\n",
       "      <td>United-States</td>\n",
       "      <td>&gt;50K.</td>\n",
       "    </tr>\n",
       "    <tr>\n",
       "      <th>3</th>\n",
       "      <td>44</td>\n",
       "      <td>Private</td>\n",
       "      <td>160323.0</td>\n",
       "      <td>Some-college</td>\n",
       "      <td>10.0</td>\n",
       "      <td>Married-civ-spouse</td>\n",
       "      <td>Machine-op-inspct</td>\n",
       "      <td>Husband</td>\n",
       "      <td>Black</td>\n",
       "      <td>Male</td>\n",
       "      <td>7688.0</td>\n",
       "      <td>0.0</td>\n",
       "      <td>40.0</td>\n",
       "      <td>United-States</td>\n",
       "      <td>&gt;50K.</td>\n",
       "    </tr>\n",
       "    <tr>\n",
       "      <th>4</th>\n",
       "      <td>18</td>\n",
       "      <td>NaN</td>\n",
       "      <td>103497.0</td>\n",
       "      <td>Some-college</td>\n",
       "      <td>10.0</td>\n",
       "      <td>Never-married</td>\n",
       "      <td>NaN</td>\n",
       "      <td>Own-child</td>\n",
       "      <td>White</td>\n",
       "      <td>Female</td>\n",
       "      <td>0.0</td>\n",
       "      <td>0.0</td>\n",
       "      <td>30.0</td>\n",
       "      <td>United-States</td>\n",
       "      <td>&lt;=50K.</td>\n",
       "    </tr>\n",
       "  </tbody>\n",
       "</table>\n",
       "</div>"
      ],
      "text/plain": [
       "  Age   Workclass    fnlwgt      Education  Education_Num  \\\n",
       "0  25     Private  226802.0           11th            7.0   \n",
       "1  38     Private   89814.0        HS-grad            9.0   \n",
       "2  28   Local-gov  336951.0     Assoc-acdm           12.0   \n",
       "3  44     Private  160323.0   Some-college           10.0   \n",
       "4  18         NaN  103497.0   Some-college           10.0   \n",
       "\n",
       "        Martial_Status          Occupation Relationship    Race      Sex  \\\n",
       "0        Never-married   Machine-op-inspct    Own-child   Black     Male   \n",
       "1   Married-civ-spouse     Farming-fishing      Husband   White     Male   \n",
       "2   Married-civ-spouse     Protective-serv      Husband   White     Male   \n",
       "3   Married-civ-spouse   Machine-op-inspct      Husband   Black     Male   \n",
       "4        Never-married                 NaN    Own-child   White   Female   \n",
       "\n",
       "   Capital_Gain  Capital_Loss  Hours_per_week         Country   Target  \n",
       "0           0.0           0.0            40.0   United-States   <=50K.  \n",
       "1           0.0           0.0            50.0   United-States   <=50K.  \n",
       "2           0.0           0.0            40.0   United-States    >50K.  \n",
       "3        7688.0           0.0            40.0   United-States    >50K.  \n",
       "4           0.0           0.0            30.0   United-States   <=50K.  "
      ]
     },
     "execution_count": 21,
     "metadata": {},
     "output_type": "execute_result"
    }
   ],
   "source": [
    "data_test = data_test.drop(0, axis=0).reset_index()\n",
    "data_test.drop('index', axis=1, inplace=True)\n",
    "data_test.head()"
   ]
  },
  {
   "cell_type": "code",
   "execution_count": 22,
   "id": "387925da",
   "metadata": {},
   "outputs": [
    {
     "data": {
      "text/plain": [
       "array(['<=50K', '>50K'], dtype=object)"
      ]
     },
     "execution_count": 22,
     "metadata": {},
     "output_type": "execute_result"
    }
   ],
   "source": [
    "data_train['Target'].unique()"
   ]
  },
  {
   "cell_type": "code",
   "execution_count": 23,
   "id": "2226e0f5",
   "metadata": {},
   "outputs": [
    {
     "data": {
      "text/plain": [
       "array([' <=50K.', ' >50K.'], dtype=object)"
      ]
     },
     "execution_count": 23,
     "metadata": {},
     "output_type": "execute_result"
    }
   ],
   "source": [
    "data_test['Target'].unique()"
   ]
  },
  {
   "cell_type": "code",
   "execution_count": 24,
   "id": "b8f62b28",
   "metadata": {},
   "outputs": [],
   "source": [
    "# Encode target variable as integer\n",
    "data_train.loc[data_train['Target'] == '<=50K', 'Target'] = 0\n",
    "data_train.loc[data_train['Target'] == '>50K', 'Target'] = 1\n",
    "\n",
    "data_test['Target'] = data_test['Target'].map({' <=50K.': 0, ' >50K.': 1}) # Another way to do that"
   ]
  },
  {
   "cell_type": "code",
   "execution_count": 25,
   "id": "7c6c0870",
   "metadata": {},
   "outputs": [],
   "source": [
    "strip_df(data_test)"
   ]
  },
  {
   "cell_type": "code",
   "execution_count": 26,
   "id": "e1d3fe66",
   "metadata": {},
   "outputs": [
    {
     "data": {
      "text/plain": [
       "array(['Male', 'Female'], dtype=object)"
      ]
     },
     "execution_count": 26,
     "metadata": {},
     "output_type": "execute_result"
    }
   ],
   "source": [
    "data_test['Sex'].unique()"
   ]
  },
  {
   "cell_type": "code",
   "execution_count": 27,
   "id": "5364fa49",
   "metadata": {},
   "outputs": [
    {
     "data": {
      "text/plain": [
       "Age                int64\n",
       "Workclass         object\n",
       "fnlwgt             int64\n",
       "Education         object\n",
       "Education_Num      int64\n",
       "Martial_Status    object\n",
       "Occupation        object\n",
       "Relationship      object\n",
       "Race              object\n",
       "Sex               object\n",
       "Capital_Gain       int64\n",
       "Capital_Loss       int64\n",
       "Hours_per_week     int64\n",
       "Country           object\n",
       "Target            object\n",
       "dtype: object"
      ]
     },
     "execution_count": 27,
     "metadata": {},
     "output_type": "execute_result"
    }
   ],
   "source": [
    "data_train.dtypes"
   ]
  },
  {
   "cell_type": "code",
   "execution_count": 28,
   "id": "d7d53339",
   "metadata": {},
   "outputs": [
    {
     "data": {
      "text/plain": [
       "0    24720\n",
       "1     7841\n",
       "Name: Target, dtype: int64"
      ]
     },
     "execution_count": 28,
     "metadata": {},
     "output_type": "execute_result"
    }
   ],
   "source": [
    "data_train['Target'].value_counts()"
   ]
  },
  {
   "cell_type": "code",
   "execution_count": 29,
   "id": "6ef39181",
   "metadata": {},
   "outputs": [
    {
     "data": {
      "text/plain": [
       "Age                object\n",
       "Workclass          object\n",
       "fnlwgt            float64\n",
       "Education          object\n",
       "Education_Num     float64\n",
       "Martial_Status     object\n",
       "Occupation         object\n",
       "Relationship       object\n",
       "Race               object\n",
       "Sex                object\n",
       "Capital_Gain      float64\n",
       "Capital_Loss      float64\n",
       "Hours_per_week    float64\n",
       "Country            object\n",
       "Target              int64\n",
       "dtype: object"
      ]
     },
     "execution_count": 29,
     "metadata": {},
     "output_type": "execute_result"
    }
   ],
   "source": [
    "data_test.dtypes"
   ]
  },
  {
   "cell_type": "markdown",
   "id": "409e3182",
   "metadata": {},
   "source": [
    "`Target` feature in `data_test` is `int64`, but in `data_train` is \"`object`\"....ummm Susge...\n",
    "\n",
    "Pd: Maybe `map` method changed the data type of the column (and also the values) but with `loc` only changed the value"
   ]
  },
  {
   "cell_type": "markdown",
   "id": "8c82a730",
   "metadata": {},
   "source": [
    "#### Primary data analysis"
   ]
  },
  {
   "cell_type": "code",
   "execution_count": 30,
   "id": "a8be633f",
   "metadata": {},
   "outputs": [
    {
     "data": {
      "text/html": [
       "<div>\n",
       "<style scoped>\n",
       "    .dataframe tbody tr th:only-of-type {\n",
       "        vertical-align: middle;\n",
       "    }\n",
       "\n",
       "    .dataframe tbody tr th {\n",
       "        vertical-align: top;\n",
       "    }\n",
       "\n",
       "    .dataframe thead th {\n",
       "        text-align: right;\n",
       "    }\n",
       "</style>\n",
       "<table border=\"1\" class=\"dataframe\">\n",
       "  <thead>\n",
       "    <tr style=\"text-align: right;\">\n",
       "      <th></th>\n",
       "      <th>count</th>\n",
       "      <th>unique</th>\n",
       "      <th>top</th>\n",
       "      <th>freq</th>\n",
       "      <th>mean</th>\n",
       "      <th>std</th>\n",
       "      <th>min</th>\n",
       "      <th>25%</th>\n",
       "      <th>50%</th>\n",
       "      <th>75%</th>\n",
       "      <th>max</th>\n",
       "    </tr>\n",
       "  </thead>\n",
       "  <tbody>\n",
       "    <tr>\n",
       "      <th>Age</th>\n",
       "      <td>16281</td>\n",
       "      <td>73</td>\n",
       "      <td>35</td>\n",
       "      <td>461</td>\n",
       "      <td>NaN</td>\n",
       "      <td>NaN</td>\n",
       "      <td>NaN</td>\n",
       "      <td>NaN</td>\n",
       "      <td>NaN</td>\n",
       "      <td>NaN</td>\n",
       "      <td>NaN</td>\n",
       "    </tr>\n",
       "    <tr>\n",
       "      <th>Workclass</th>\n",
       "      <td>15318</td>\n",
       "      <td>8</td>\n",
       "      <td>Private</td>\n",
       "      <td>11210</td>\n",
       "      <td>NaN</td>\n",
       "      <td>NaN</td>\n",
       "      <td>NaN</td>\n",
       "      <td>NaN</td>\n",
       "      <td>NaN</td>\n",
       "      <td>NaN</td>\n",
       "      <td>NaN</td>\n",
       "    </tr>\n",
       "    <tr>\n",
       "      <th>fnlwgt</th>\n",
       "      <td>16281.0</td>\n",
       "      <td>NaN</td>\n",
       "      <td>NaN</td>\n",
       "      <td>NaN</td>\n",
       "      <td>189435.677784</td>\n",
       "      <td>105714.907671</td>\n",
       "      <td>13492.0</td>\n",
       "      <td>116736.0</td>\n",
       "      <td>177831.0</td>\n",
       "      <td>238384.0</td>\n",
       "      <td>1490400.0</td>\n",
       "    </tr>\n",
       "    <tr>\n",
       "      <th>Education</th>\n",
       "      <td>16281</td>\n",
       "      <td>16</td>\n",
       "      <td>HS-grad</td>\n",
       "      <td>5283</td>\n",
       "      <td>NaN</td>\n",
       "      <td>NaN</td>\n",
       "      <td>NaN</td>\n",
       "      <td>NaN</td>\n",
       "      <td>NaN</td>\n",
       "      <td>NaN</td>\n",
       "      <td>NaN</td>\n",
       "    </tr>\n",
       "    <tr>\n",
       "      <th>Education_Num</th>\n",
       "      <td>16281.0</td>\n",
       "      <td>NaN</td>\n",
       "      <td>NaN</td>\n",
       "      <td>NaN</td>\n",
       "      <td>10.072907</td>\n",
       "      <td>2.567545</td>\n",
       "      <td>1.0</td>\n",
       "      <td>9.0</td>\n",
       "      <td>10.0</td>\n",
       "      <td>12.0</td>\n",
       "      <td>16.0</td>\n",
       "    </tr>\n",
       "    <tr>\n",
       "      <th>Martial_Status</th>\n",
       "      <td>16281</td>\n",
       "      <td>7</td>\n",
       "      <td>Married-civ-spouse</td>\n",
       "      <td>7403</td>\n",
       "      <td>NaN</td>\n",
       "      <td>NaN</td>\n",
       "      <td>NaN</td>\n",
       "      <td>NaN</td>\n",
       "      <td>NaN</td>\n",
       "      <td>NaN</td>\n",
       "      <td>NaN</td>\n",
       "    </tr>\n",
       "    <tr>\n",
       "      <th>Occupation</th>\n",
       "      <td>15315</td>\n",
       "      <td>14</td>\n",
       "      <td>Prof-specialty</td>\n",
       "      <td>2032</td>\n",
       "      <td>NaN</td>\n",
       "      <td>NaN</td>\n",
       "      <td>NaN</td>\n",
       "      <td>NaN</td>\n",
       "      <td>NaN</td>\n",
       "      <td>NaN</td>\n",
       "      <td>NaN</td>\n",
       "    </tr>\n",
       "    <tr>\n",
       "      <th>Relationship</th>\n",
       "      <td>16281</td>\n",
       "      <td>6</td>\n",
       "      <td>Husband</td>\n",
       "      <td>6523</td>\n",
       "      <td>NaN</td>\n",
       "      <td>NaN</td>\n",
       "      <td>NaN</td>\n",
       "      <td>NaN</td>\n",
       "      <td>NaN</td>\n",
       "      <td>NaN</td>\n",
       "      <td>NaN</td>\n",
       "    </tr>\n",
       "    <tr>\n",
       "      <th>Race</th>\n",
       "      <td>16281</td>\n",
       "      <td>5</td>\n",
       "      <td>White</td>\n",
       "      <td>13946</td>\n",
       "      <td>NaN</td>\n",
       "      <td>NaN</td>\n",
       "      <td>NaN</td>\n",
       "      <td>NaN</td>\n",
       "      <td>NaN</td>\n",
       "      <td>NaN</td>\n",
       "      <td>NaN</td>\n",
       "    </tr>\n",
       "    <tr>\n",
       "      <th>Sex</th>\n",
       "      <td>16281</td>\n",
       "      <td>2</td>\n",
       "      <td>Male</td>\n",
       "      <td>10860</td>\n",
       "      <td>NaN</td>\n",
       "      <td>NaN</td>\n",
       "      <td>NaN</td>\n",
       "      <td>NaN</td>\n",
       "      <td>NaN</td>\n",
       "      <td>NaN</td>\n",
       "      <td>NaN</td>\n",
       "    </tr>\n",
       "    <tr>\n",
       "      <th>Capital_Gain</th>\n",
       "      <td>16281.0</td>\n",
       "      <td>NaN</td>\n",
       "      <td>NaN</td>\n",
       "      <td>NaN</td>\n",
       "      <td>1081.905104</td>\n",
       "      <td>7583.935968</td>\n",
       "      <td>0.0</td>\n",
       "      <td>0.0</td>\n",
       "      <td>0.0</td>\n",
       "      <td>0.0</td>\n",
       "      <td>99999.0</td>\n",
       "    </tr>\n",
       "    <tr>\n",
       "      <th>Capital_Loss</th>\n",
       "      <td>16281.0</td>\n",
       "      <td>NaN</td>\n",
       "      <td>NaN</td>\n",
       "      <td>NaN</td>\n",
       "      <td>87.899269</td>\n",
       "      <td>403.105286</td>\n",
       "      <td>0.0</td>\n",
       "      <td>0.0</td>\n",
       "      <td>0.0</td>\n",
       "      <td>0.0</td>\n",
       "      <td>3770.0</td>\n",
       "    </tr>\n",
       "    <tr>\n",
       "      <th>Hours_per_week</th>\n",
       "      <td>16281.0</td>\n",
       "      <td>NaN</td>\n",
       "      <td>NaN</td>\n",
       "      <td>NaN</td>\n",
       "      <td>40.392236</td>\n",
       "      <td>12.479332</td>\n",
       "      <td>1.0</td>\n",
       "      <td>40.0</td>\n",
       "      <td>40.0</td>\n",
       "      <td>45.0</td>\n",
       "      <td>99.0</td>\n",
       "    </tr>\n",
       "    <tr>\n",
       "      <th>Country</th>\n",
       "      <td>16007</td>\n",
       "      <td>40</td>\n",
       "      <td>United-States</td>\n",
       "      <td>14662</td>\n",
       "      <td>NaN</td>\n",
       "      <td>NaN</td>\n",
       "      <td>NaN</td>\n",
       "      <td>NaN</td>\n",
       "      <td>NaN</td>\n",
       "      <td>NaN</td>\n",
       "      <td>NaN</td>\n",
       "    </tr>\n",
       "    <tr>\n",
       "      <th>Target</th>\n",
       "      <td>16281.0</td>\n",
       "      <td>NaN</td>\n",
       "      <td>NaN</td>\n",
       "      <td>NaN</td>\n",
       "      <td>0.236226</td>\n",
       "      <td>0.424776</td>\n",
       "      <td>0.0</td>\n",
       "      <td>0.0</td>\n",
       "      <td>0.0</td>\n",
       "      <td>0.0</td>\n",
       "      <td>1.0</td>\n",
       "    </tr>\n",
       "  </tbody>\n",
       "</table>\n",
       "</div>"
      ],
      "text/plain": [
       "                  count unique                 top   freq           mean  \\\n",
       "Age               16281     73                  35    461            NaN   \n",
       "Workclass         15318      8             Private  11210            NaN   \n",
       "fnlwgt          16281.0    NaN                 NaN    NaN  189435.677784   \n",
       "Education         16281     16             HS-grad   5283            NaN   \n",
       "Education_Num   16281.0    NaN                 NaN    NaN      10.072907   \n",
       "Martial_Status    16281      7  Married-civ-spouse   7403            NaN   \n",
       "Occupation        15315     14      Prof-specialty   2032            NaN   \n",
       "Relationship      16281      6             Husband   6523            NaN   \n",
       "Race              16281      5               White  13946            NaN   \n",
       "Sex               16281      2                Male  10860            NaN   \n",
       "Capital_Gain    16281.0    NaN                 NaN    NaN    1081.905104   \n",
       "Capital_Loss    16281.0    NaN                 NaN    NaN      87.899269   \n",
       "Hours_per_week  16281.0    NaN                 NaN    NaN      40.392236   \n",
       "Country           16007     40       United-States  14662            NaN   \n",
       "Target          16281.0    NaN                 NaN    NaN       0.236226   \n",
       "\n",
       "                          std      min       25%       50%       75%  \\\n",
       "Age                       NaN      NaN       NaN       NaN       NaN   \n",
       "Workclass                 NaN      NaN       NaN       NaN       NaN   \n",
       "fnlwgt          105714.907671  13492.0  116736.0  177831.0  238384.0   \n",
       "Education                 NaN      NaN       NaN       NaN       NaN   \n",
       "Education_Num        2.567545      1.0       9.0      10.0      12.0   \n",
       "Martial_Status            NaN      NaN       NaN       NaN       NaN   \n",
       "Occupation                NaN      NaN       NaN       NaN       NaN   \n",
       "Relationship              NaN      NaN       NaN       NaN       NaN   \n",
       "Race                      NaN      NaN       NaN       NaN       NaN   \n",
       "Sex                       NaN      NaN       NaN       NaN       NaN   \n",
       "Capital_Gain      7583.935968      0.0       0.0       0.0       0.0   \n",
       "Capital_Loss       403.105286      0.0       0.0       0.0       0.0   \n",
       "Hours_per_week      12.479332      1.0      40.0      40.0      45.0   \n",
       "Country                   NaN      NaN       NaN       NaN       NaN   \n",
       "Target               0.424776      0.0       0.0       0.0       0.0   \n",
       "\n",
       "                      max  \n",
       "Age                   NaN  \n",
       "Workclass             NaN  \n",
       "fnlwgt          1490400.0  \n",
       "Education             NaN  \n",
       "Education_Num        16.0  \n",
       "Martial_Status        NaN  \n",
       "Occupation            NaN  \n",
       "Relationship          NaN  \n",
       "Race                  NaN  \n",
       "Sex                   NaN  \n",
       "Capital_Gain      99999.0  \n",
       "Capital_Loss       3770.0  \n",
       "Hours_per_week       99.0  \n",
       "Country               NaN  \n",
       "Target                1.0  "
      ]
     },
     "execution_count": 30,
     "metadata": {},
     "output_type": "execute_result"
    }
   ],
   "source": [
    "data_test.describe(include='all').T"
   ]
  },
  {
   "cell_type": "code",
   "execution_count": 31,
   "id": "758a6421",
   "metadata": {},
   "outputs": [
    {
     "data": {
      "text/plain": [
       "0    24720\n",
       "1     7841\n",
       "Name: Target, dtype: int64"
      ]
     },
     "execution_count": 31,
     "metadata": {},
     "output_type": "execute_result"
    }
   ],
   "source": [
    "data_train['Target'].value_counts()"
   ]
  },
  {
   "cell_type": "code",
   "execution_count": 32,
   "id": "0558d696",
   "metadata": {},
   "outputs": [
    {
     "data": {
      "image/png": "[encoded data removed]",
      "text/plain": [
       "<Figure size 1800x1080 with 15 Axes>"
      ]
     },
     "metadata": {
      "needs_background": "light"
     },
     "output_type": "display_data"
    }
   ],
   "source": [
    "# Visualize the data in bar plots (categorical data) and histograms (numerical data)\n",
    "rows = 3\n",
    "cols = round(data_train.shape[1] / rows)\n",
    "\n",
    "fig, axes = plt.subplots(rows, cols, figsize=(25, 15))\n",
    "ax_flat = axes.ravel()\n",
    "\n",
    "for i, column in enumerate(data_train.columns):\n",
    "    ax_flat[i].set_title(column)\n",
    "    if data_train.dtypes[column] == object:\n",
    "        data_train[column].value_counts().plot(kind='bar', ax=ax_flat[i])\n",
    "    else:\n",
    "        data_train[column].hist(ax=ax_flat[i]) # also...   .plot(kind='hist', ax=...)    \n",
    "    ax_flat[i].tick_params(axis='x', labelrotation = 90)\n",
    "\n",
    "plt.subplots_adjust(hspace=0.7, wspace=0.2)"
   ]
  },
  {
   "cell_type": "code",
   "execution_count": 33,
   "id": "6931c451",
   "metadata": {},
   "outputs": [
    {
     "name": "stdout",
     "output_type": "stream",
     "text": [
      "<class 'pandas.core.frame.DataFrame'>\n",
      "RangeIndex: 32561 entries, 0 to 32560\n",
      "Data columns (total 15 columns):\n",
      " #   Column          Non-Null Count  Dtype \n",
      "---  ------          --------------  ----- \n",
      " 0   Age             32561 non-null  int64 \n",
      " 1   Workclass       30725 non-null  object\n",
      " 2   fnlwgt          32561 non-null  int64 \n",
      " 3   Education       32561 non-null  object\n",
      " 4   Education_Num   32561 non-null  int64 \n",
      " 5   Martial_Status  32561 non-null  object\n",
      " 6   Occupation      30718 non-null  object\n",
      " 7   Relationship    32561 non-null  object\n",
      " 8   Race            32561 non-null  object\n",
      " 9   Sex             32561 non-null  object\n",
      " 10  Capital_Gain    32561 non-null  int64 \n",
      " 11  Capital_Loss    32561 non-null  int64 \n",
      " 12  Hours_per_week  32561 non-null  int64 \n",
      " 13  Country         31978 non-null  object\n",
      " 14  Target          32561 non-null  object\n",
      "dtypes: int64(6), object(9)\n",
      "memory usage: 3.7+ MB\n"
     ]
    }
   ],
   "source": [
    "data_train.info()"
   ]
  },
  {
   "cell_type": "code",
   "execution_count": 34,
   "id": "b26b35ca",
   "metadata": {},
   "outputs": [
    {
     "name": "stdout",
     "output_type": "stream",
     "text": [
      "<class 'pandas.core.frame.DataFrame'>\n",
      "RangeIndex: 16281 entries, 0 to 16280\n",
      "Data columns (total 15 columns):\n",
      " #   Column          Non-Null Count  Dtype  \n",
      "---  ------          --------------  -----  \n",
      " 0   Age             16281 non-null  object \n",
      " 1   Workclass       15318 non-null  object \n",
      " 2   fnlwgt          16281 non-null  float64\n",
      " 3   Education       16281 non-null  object \n",
      " 4   Education_Num   16281 non-null  float64\n",
      " 5   Martial_Status  16281 non-null  object \n",
      " 6   Occupation      15315 non-null  object \n",
      " 7   Relationship    16281 non-null  object \n",
      " 8   Race            16281 non-null  object \n",
      " 9   Sex             16281 non-null  object \n",
      " 10  Capital_Gain    16281 non-null  float64\n",
      " 11  Capital_Loss    16281 non-null  float64\n",
      " 12  Hours_per_week  16281 non-null  float64\n",
      " 13  Country         16007 non-null  object \n",
      " 14  Target          16281 non-null  int64  \n",
      "dtypes: float64(5), int64(1), object(9)\n",
      "memory usage: 1.9+ MB\n"
     ]
    }
   ],
   "source": [
    "data_test.info()"
   ]
  },
  {
   "cell_type": "markdown",
   "id": "de50516c",
   "metadata": {},
   "source": [
    "Different types of values (Age, fnlwgt, Target, etc). We need to cast them into a common types to keep onsistency on data types."
   ]
  },
  {
   "cell_type": "code",
   "execution_count": 35,
   "id": "b1e862aa",
   "metadata": {},
   "outputs": [],
   "source": [
    "# Cast data types\n",
    "data_train['Target'] = data_train['Target'].astype(int)\n",
    "\n",
    "data_test['Age'] = data_test['Age'].astype(int)\n",
    "data_test['fnlwgt'] = data_test['fnlwgt'].astype(int)\n",
    "data_test['Education_Num'] = data_test['Education_Num'].astype(int)\n",
    "data_test['Capital_Gain'] = data_test['Capital_Gain'].astype(int)\n",
    "data_test['Capital_Loss'] = data_test['Capital_Loss'].astype(int)\n",
    "data_test['Hours_per_week'] = data_test['Hours_per_week'].astype(int)"
   ]
  },
  {
   "cell_type": "markdown",
   "id": "fcf70630",
   "metadata": {},
   "source": [
    "Why cast `float` into `int`? Idk (the exercise did that). I would cast from `int` to `float`. Maybe most of values don't have decimal (fractional) part, or at least that's we can notice from `describe` method, specifically in the `min 25% 50% 75% max` of each numerical feature."
   ]
  },
  {
   "cell_type": "code",
   "execution_count": 36,
   "id": "dc36cb81",
   "metadata": {},
   "outputs": [
    {
     "name": "stdout",
     "output_type": "stream",
     "text": [
      "['Workclass', 'Education', 'Martial_Status', 'Occupation', 'Relationship', 'Race', 'Sex', 'Country']\n",
      "['Age', 'fnlwgt', 'Education_Num', 'Capital_Gain', 'Capital_Loss', 'Hours_per_week', 'Target']\n"
     ]
    }
   ],
   "source": [
    "# Select the name of categorical and numerical features from data\n",
    "cat_cols = data_train.select_dtypes(exclude='number').columns.to_list()\n",
    "num_cols = data_train.select_dtypes(include='number').columns.to_list()\n",
    "\n",
    "print(cat_cols)\n",
    "print(num_cols)"
   ]
  },
  {
   "cell_type": "code",
   "execution_count": 37,
   "id": "4d6dda29",
   "metadata": {},
   "outputs": [
    {
     "data": {
      "text/plain": [
       "Age                  0\n",
       "Workclass         1836\n",
       "fnlwgt               0\n",
       "Education            0\n",
       "Education_Num        0\n",
       "Martial_Status       0\n",
       "Occupation        1843\n",
       "Relationship         0\n",
       "Race                 0\n",
       "Sex                  0\n",
       "Capital_Gain         0\n",
       "Capital_Loss         0\n",
       "Hours_per_week       0\n",
       "Country            583\n",
       "Target               0\n",
       "dtype: int64"
      ]
     },
     "execution_count": 37,
     "metadata": {},
     "output_type": "execute_result"
    }
   ],
   "source": [
    "# Find out how many missing values there are\n",
    "data_train.isna().sum()"
   ]
  },
  {
   "cell_type": "code",
   "execution_count": 38,
   "id": "1f223679",
   "metadata": {},
   "outputs": [],
   "source": [
    "# Fill missing values with the median of his respective feature\n",
    "for cat in cat_cols:\n",
    "    data_train[cat].fillna(data_train[cat].mode()[0], inplace=True) # mode is the most frecuently\n",
    "    data_test[cat].fillna(data_train[cat].mode()[0], inplace=True)\n",
    "\n",
    "for num in num_cols:\n",
    "    data_train[num].fillna(data_train[num].median(), inplace=True)\n",
    "    data_test[num].fillna(data_test[num].median(), inplace=True)"
   ]
  },
  {
   "cell_type": "code",
   "execution_count": 39,
   "id": "0f001976",
   "metadata": {},
   "outputs": [
    {
     "data": {
      "text/plain": [
       "Age               0\n",
       "Workclass         0\n",
       "fnlwgt            0\n",
       "Education         0\n",
       "Education_Num     0\n",
       "Martial_Status    0\n",
       "Occupation        0\n",
       "Relationship      0\n",
       "Race              0\n",
       "Sex               0\n",
       "Capital_Gain      0\n",
       "Capital_Loss      0\n",
       "Hours_per_week    0\n",
       "Country           0\n",
       "Target            0\n",
       "dtype: int64"
      ]
     },
     "execution_count": 39,
     "metadata": {},
     "output_type": "execute_result"
    }
   ],
   "source": [
    "# Again, let's see if there is any missing value\n",
    "data_train.isna().sum()"
   ]
  },
  {
   "cell_type": "markdown",
   "id": "bcd2b4ff",
   "metadata": {},
   "source": [
    "**NOTE:** It's recommended to do data imputation (and other data preprocessing steps) with scikit-learn, because we can automate the process with pipelines and even prevent data leakage (cross validation to all processes)"
   ]
  },
  {
   "cell_type": "code",
   "execution_count": null,
   "id": "c1e91472",
   "metadata": {},
   "outputs": [],
   "source": []
  },
  {
   "cell_type": "code",
   "execution_count": 40,
   "id": "4f014b15",
   "metadata": {},
   "outputs": [],
   "source": [
    "# Encode categorical feature throught get_dummies\n",
    "data_train = pd.concat([data_train[num_cols], pd.get_dummies(data_train[cat_cols])], axis=1)\n",
    "data_test = pd.concat([data_test[num_cols], pd.get_dummies(data_test[cat_cols])], axis=1)"
   ]
  },
  {
   "cell_type": "code",
   "execution_count": 41,
   "id": "75f57bde",
   "metadata": {},
   "outputs": [
    {
     "data": {
      "text/plain": [
       "((32561, 106), (16281, 105))"
      ]
     },
     "execution_count": 41,
     "metadata": {},
     "output_type": "execute_result"
    }
   ],
   "source": [
    "data_train.shape, data_test.shape"
   ]
  },
  {
   "cell_type": "code",
   "execution_count": 42,
   "id": "b136e766",
   "metadata": {},
   "outputs": [
    {
     "data": {
      "text/plain": [
       "{'Country_Holand-Netherlands'}"
      ]
     },
     "execution_count": 42,
     "metadata": {},
     "output_type": "execute_result"
    }
   ],
   "source": [
    "set(data_train.columns) - set(data_test.columns)"
   ]
  },
  {
   "cell_type": "code",
   "execution_count": 43,
   "id": "19005a0b",
   "metadata": {},
   "outputs": [],
   "source": [
    "# As data_test doesn't have 'Country_Holand-Netherlands' column, we can create one and fill with 0's\n",
    "data_test['Country_Holand-Netherlands'] = 0"
   ]
  },
  {
   "cell_type": "code",
   "execution_count": 44,
   "id": "82f6a920",
   "metadata": {},
   "outputs": [
    {
     "data": {
      "text/plain": [
       "set()"
      ]
     },
     "execution_count": 44,
     "metadata": {},
     "output_type": "execute_result"
    }
   ],
   "source": [
    "set(data_train.columns) - set(data_test.columns)"
   ]
  },
  {
   "cell_type": "markdown",
   "id": "e18d5880",
   "metadata": {},
   "source": [
    "Now we can start building a machine learning model, but first, we need to split the data in train, test sets."
   ]
  },
  {
   "cell_type": "code",
   "execution_count": 45,
   "id": "a549fbba",
   "metadata": {},
   "outputs": [],
   "source": [
    "X_train = data_train.drop(['Target'], axis=1)\n",
    "y_train = data_train['Target']\n",
    "\n",
    "X_test = data_test.drop(['Target'], axis=1)\n",
    "y_test = data_test['Target']"
   ]
  },
  {
   "cell_type": "markdown",
   "id": "b6e9a099",
   "metadata": {},
   "source": [
    "### Decision Tree Classifier"
   ]
  },
  {
   "cell_type": "markdown",
   "id": "c13d03a6",
   "metadata": {},
   "source": [
    "#### Base model"
   ]
  },
  {
   "cell_type": "code",
   "execution_count": 46,
   "id": "9191fa52",
   "metadata": {},
   "outputs": [
    {
     "data": {
      "text/plain": [
       "DecisionTreeClassifier(random_state=17)"
      ]
     },
     "execution_count": 46,
     "metadata": {},
     "output_type": "execute_result"
    }
   ],
   "source": [
    "# Build a Decision Tree\n",
    "tree_clf_base = DecisionTreeClassifier(random_state=17) # 17 because the exercise says so (to reproduce results)\n",
    "tree_clf_base.fit(X_train, y_train)"
   ]
  },
  {
   "cell_type": "code",
   "execution_count": 47,
   "id": "08b8dd4f",
   "metadata": {},
   "outputs": [
    {
     "name": "stdout",
     "output_type": "stream",
     "text": [
      "Base tree model accuracy 0.8015478164731896\n"
     ]
    }
   ],
   "source": [
    "# Evaluate the model's accuracy\n",
    "y_pred_tree_base = tree_clf_base.predict(X_test)\n",
    "print(\"Base tree model accuracy\", accuracy_score(y_test, y_pred_tree_base))"
   ]
  },
  {
   "cell_type": "markdown",
   "id": "d7a9fa85",
   "metadata": {},
   "source": [
    "#### What is the test set accuracy of a decision tree with maximum tree depth of 3 and random_state = 17?"
   ]
  },
  {
   "cell_type": "code",
   "execution_count": 48,
   "id": "dc540619",
   "metadata": {},
   "outputs": [
    {
     "name": "stdout",
     "output_type": "stream",
     "text": [
      "Tree model accuracy 0.8447884036607088\n"
     ]
    }
   ],
   "source": [
    "tree_clf = DecisionTreeClassifier(random_state=17, max_depth=3)\n",
    "tree_clf.fit(X_train, y_train)\n",
    "y_pred_tree_clf = tree_clf.predict(X_test)\n",
    "print(\"Tree model accuracy\", accuracy_score(y_test, y_pred_tree_clf))"
   ]
  },
  {
   "cell_type": "markdown",
   "id": "ea78e0a2",
   "metadata": {},
   "source": [
    "A: 0.844 ~ 0.845"
   ]
  },
  {
   "cell_type": "markdown",
   "id": "62682975",
   "metadata": {},
   "source": [
    "#### Hyperparameter tuning"
   ]
  },
  {
   "cell_type": "code",
   "execution_count": 49,
   "id": "02ad0691",
   "metadata": {},
   "outputs": [
    {
     "name": "stdout",
     "output_type": "stream",
     "text": [
      "Fitting 5 folds for each of 9 candidates, totalling 45 fits\n"
     ]
    },
    {
     "data": {
      "text/plain": [
       "GridSearchCV(cv=5, estimator=DecisionTreeClassifier(random_state=17), n_jobs=-1,\n",
       "             param_grid={'max_depth': range(2, 11)}, verbose=2)"
      ]
     },
     "execution_count": 49,
     "metadata": {},
     "output_type": "execute_result"
    }
   ],
   "source": [
    "# Apply hyperparameter tuning in a Decision \n",
    "tree_params = {'max_depth': range(2, 11)}\n",
    "\n",
    "grid_tree = GridSearchCV(DecisionTreeClassifier(random_state=17), tree_params, cv=5, n_jobs=-1, verbose=2)\n",
    "grid_tree.fit(X_train, y_train)"
   ]
  },
  {
   "cell_type": "code",
   "execution_count": 50,
   "id": "f3cde4c6",
   "metadata": {},
   "outputs": [
    {
     "data": {
      "text/plain": [
       "{'max_depth': 9}"
      ]
     },
     "execution_count": 50,
     "metadata": {},
     "output_type": "execute_result"
    }
   ],
   "source": [
    "grid_tree.best_params_"
   ]
  },
  {
   "cell_type": "code",
   "execution_count": 51,
   "id": "9f523cb5",
   "metadata": {},
   "outputs": [
    {
     "data": {
      "text/plain": [
       "0.8565770273854106"
      ]
     },
     "execution_count": 51,
     "metadata": {},
     "output_type": "execute_result"
    }
   ],
   "source": [
    "grid_tree.best_score_"
   ]
  },
  {
   "cell_type": "markdown",
   "id": "9fc41a14",
   "metadata": {},
   "source": [
    "#### What is the test set accuracy of a decision tree with maximum depth of 9 and random_state = 17?"
   ]
  },
  {
   "cell_type": "code",
   "execution_count": 52,
   "id": "6954eede",
   "metadata": {},
   "outputs": [
    {
     "name": "stdout",
     "output_type": "stream",
     "text": [
      "Tree grid accuracy 0.847798046803022\n"
     ]
    }
   ],
   "source": [
    "y_pred_grid_tree = grid_tree.predict(X_test)\n",
    "print(\"Tree grid accuracy\", accuracy_score(y_test, y_pred_grid_tree))"
   ]
  },
  {
   "cell_type": "markdown",
   "id": "074c57f2",
   "metadata": {},
   "source": [
    "No mejoró mucho xd"
   ]
  },
  {
   "cell_type": "markdown",
   "id": "b003e2f6",
   "metadata": {},
   "source": [
    "### RandomForestClassifier"
   ]
  },
  {
   "cell_type": "markdown",
   "id": "2cab66b5",
   "metadata": {},
   "source": [
    "#### Base model"
   ]
  },
  {
   "cell_type": "code",
   "execution_count": 53,
   "id": "51b7fb3e",
   "metadata": {},
   "outputs": [
    {
     "name": "stdout",
     "output_type": "stream",
     "text": [
      "Base forest model accuracy: 0.8585467723112831\n"
     ]
    }
   ],
   "source": [
    "base_forest = RandomForestClassifier(n_estimators=100, random_state=17, n_jobs=-1)\n",
    "base_forest.fit(X_train, y_train)\n",
    "y_pred_base_forest = base_forest.predict(X_test)\n",
    "print(\"Base forest model accuracy:\", accuracy_score(y_test, y_pred_base_forest))"
   ]
  },
  {
   "cell_type": "markdown",
   "id": "1b48bfc7",
   "metadata": {},
   "source": [
    "#### Hyperparameter tuning"
   ]
  },
  {
   "cell_type": "code",
   "execution_count": 54,
   "id": "035d3fe4",
   "metadata": {},
   "outputs": [
    {
     "name": "stdout",
     "output_type": "stream",
     "text": [
      "Fitting 5 folds for each of 55 candidates, totalling 275 fits\n",
      "[CV] END .......................max_depth=10, max_features=5; total time=   2.1s\n",
      "[CV] END .......................max_depth=10, max_features=5; total time=   2.1s\n",
      "[CV] END .......................max_depth=10, max_features=5; total time=   2.2s\n",
      "[CV] END .......................max_depth=10, max_features=5; total time=   2.2s\n",
      "[CV] END .......................max_depth=10, max_features=5; total time=   1.9s\n",
      "[CV] END ......................max_depth=10, max_features=25; total time=   5.2s\n",
      "[CV] END ......................max_depth=10, max_features=25; total time=   5.2s\n",
      "[CV] END ......................max_depth=10, max_features=25; total time=   5.2s\n",
      "[CV] END ......................max_depth=10, max_features=25; total time=   5.2s\n",
      "[CV] END ......................max_depth=10, max_features=25; total time=   5.3s\n",
      "[CV] END ......................max_depth=10, max_features=45; total time=   8.4s\n",
      "[CV] END ......................max_depth=10, max_features=45; total time=   8.5s\n",
      "[CV] END ......................max_depth=10, max_features=45; total time=   8.5s\n",
      "[CV] END ......................max_depth=10, max_features=45; total time=   8.3s\n",
      "[CV] END ......................max_depth=10, max_features=45; total time=   8.3s\n",
      "[CV] END ......................max_depth=10, max_features=65; total time=  11.1s\n",
      "[CV] END ......................max_depth=10, max_features=65; total time=  11.0s\n",
      "[CV] END ......................max_depth=10, max_features=65; total time=  11.2s\n",
      "[CV] END ......................max_depth=10, max_features=65; total time=  11.9s\n",
      "[CV] END ......................max_depth=10, max_features=65; total time=  12.0s\n",
      "[CV] END ......................max_depth=10, max_features=85; total time=  15.3s\n",
      "[CV] END ......................max_depth=10, max_features=85; total time=  16.1s\n",
      "[CV] END .......................max_depth=11, max_features=5; total time=   1.9s\n",
      "[CV] END ......................max_depth=10, max_features=85; total time=  15.1s\n",
      "[CV] END .......................max_depth=11, max_features=5; total time=   2.1s\n",
      "[CV] END .......................max_depth=11, max_features=5; total time=   2.1s\n",
      "[CV] END ......................max_depth=10, max_features=85; total time=  14.7s\n",
      "[CV] END .......................max_depth=11, max_features=5; total time=   2.1s\n",
      "[CV] END .......................max_depth=11, max_features=5; total time=   2.0s\n",
      "[CV] END ......................max_depth=10, max_features=85; total time=  14.7s\n",
      "[CV] END ......................max_depth=11, max_features=25; total time=   6.0s\n",
      "[CV] END ......................max_depth=11, max_features=25; total time=   6.0s\n",
      "[CV] END ......................max_depth=11, max_features=25; total time=   6.3s\n",
      "[CV] END ......................max_depth=11, max_features=25; total time=   6.8s\n",
      "[CV] END ......................max_depth=11, max_features=25; total time=   6.4s\n",
      "[CV] END ......................max_depth=11, max_features=45; total time=   9.5s\n",
      "[CV] END ......................max_depth=11, max_features=45; total time=  10.1s\n",
      "[CV] END ......................max_depth=11, max_features=45; total time=   9.6s\n",
      "[CV] END ......................max_depth=11, max_features=45; total time=   9.9s\n",
      "[CV] END ......................max_depth=11, max_features=45; total time=   9.5s\n",
      "[CV] END ......................max_depth=11, max_features=65; total time=  13.2s\n",
      "[CV] END ......................max_depth=11, max_features=65; total time=  13.0s\n",
      "[CV] END ......................max_depth=11, max_features=65; total time=  12.9s\n",
      "[CV] END ......................max_depth=11, max_features=65; total time=  12.4s\n",
      "[CV] END ......................max_depth=11, max_features=65; total time=  12.0s\n",
      "[CV] END ......................max_depth=11, max_features=85; total time=  15.2s\n",
      "[CV] END ......................max_depth=11, max_features=85; total time=  15.4s\n",
      "[CV] END .......................max_depth=12, max_features=5; total time=   2.0s\n",
      "[CV] END ......................max_depth=11, max_features=85; total time=  14.8s\n",
      "[CV] END .......................max_depth=12, max_features=5; total time=   2.0s\n",
      "[CV] END .......................max_depth=12, max_features=5; total time=   2.1s\n",
      "[CV] END .......................max_depth=12, max_features=5; total time=   2.1s\n",
      "[CV] END .......................max_depth=12, max_features=5; total time=   2.1s\n",
      "[CV] END ......................max_depth=11, max_features=85; total time=  15.4s\n",
      "[CV] END ......................max_depth=12, max_features=25; total time=   6.0s\n",
      "[CV] END ......................max_depth=12, max_features=25; total time=   5.9s\n",
      "[CV] END ......................max_depth=12, max_features=25; total time=   6.0s\n",
      "[CV] END ......................max_depth=11, max_features=85; total time=  15.4s\n",
      "[CV] END ......................max_depth=12, max_features=25; total time=   6.2s\n",
      "[CV] END ......................max_depth=12, max_features=25; total time=   5.9s\n",
      "[CV] END ......................max_depth=12, max_features=45; total time=   9.9s\n",
      "[CV] END ......................max_depth=12, max_features=45; total time=   9.9s\n",
      "[CV] END ......................max_depth=12, max_features=45; total time=   9.2s\n",
      "[CV] END ......................max_depth=12, max_features=45; total time=   9.8s\n",
      "[CV] END ......................max_depth=12, max_features=45; total time=  10.1s\n",
      "[CV] END ......................max_depth=12, max_features=65; total time=  13.4s\n",
      "[CV] END ......................max_depth=12, max_features=65; total time=  13.3s\n",
      "[CV] END ......................max_depth=12, max_features=65; total time=  13.1s\n",
      "[CV] END ......................max_depth=12, max_features=65; total time=  13.1s\n",
      "[CV] END ......................max_depth=12, max_features=65; total time=  13.0s\n",
      "[CV] END ......................max_depth=12, max_features=85; total time=  16.0s\n",
      "[CV] END ......................max_depth=12, max_features=85; total time=  16.7s\n",
      "[CV] END .......................max_depth=13, max_features=5; total time=   2.1s\n",
      "[CV] END .......................max_depth=13, max_features=5; total time=   2.2s\n",
      "[CV] END ......................max_depth=12, max_features=85; total time=  16.7s\n",
      "[CV] END .......................max_depth=13, max_features=5; total time=   2.3s\n",
      "[CV] END .......................max_depth=13, max_features=5; total time=   2.3s\n",
      "[CV] END .......................max_depth=13, max_features=5; total time=   2.3s\n",
      "[CV] END ......................max_depth=12, max_features=85; total time=  16.3s\n",
      "[CV] END ......................max_depth=13, max_features=25; total time=   6.6s\n",
      "[CV] END ......................max_depth=13, max_features=25; total time=   6.4s\n",
      "[CV] END ......................max_depth=13, max_features=25; total time=   6.4s\n",
      "[CV] END ......................max_depth=12, max_features=85; total time=  16.6s\n",
      "[CV] END ......................max_depth=13, max_features=25; total time=   6.7s\n",
      "[CV] END ......................max_depth=13, max_features=25; total time=   6.5s\n",
      "[CV] END ......................max_depth=13, max_features=45; total time=   9.9s\n",
      "[CV] END ......................max_depth=13, max_features=45; total time=  10.1s\n",
      "[CV] END ......................max_depth=13, max_features=45; total time=  10.4s\n",
      "[CV] END ......................max_depth=13, max_features=45; total time=  10.2s\n",
      "[CV] END ......................max_depth=13, max_features=45; total time=   9.7s\n",
      "[CV] END ......................max_depth=13, max_features=65; total time=  13.7s\n",
      "[CV] END ......................max_depth=13, max_features=65; total time=  13.6s\n",
      "[CV] END ......................max_depth=13, max_features=65; total time=  13.9s\n",
      "[CV] END ......................max_depth=13, max_features=65; total time=  13.8s\n",
      "[CV] END ......................max_depth=13, max_features=65; total time=  13.3s\n",
      "[CV] END ......................max_depth=13, max_features=85; total time=  18.3s\n",
      "[CV] END ......................max_depth=13, max_features=85; total time=  18.7s\n",
      "[CV] END .......................max_depth=14, max_features=5; total time=   2.3s\n",
      "[CV] END ......................max_depth=13, max_features=85; total time=  18.2s\n",
      "[CV] END .......................max_depth=14, max_features=5; total time=   2.4s\n",
      "[CV] END .......................max_depth=14, max_features=5; total time=   2.4s\n"
     ]
    },
    {
     "name": "stdout",
     "output_type": "stream",
     "text": [
      "[CV] END ......................max_depth=13, max_features=85; total time=  17.5s\n",
      "[CV] END .......................max_depth=14, max_features=5; total time=   2.4s\n",
      "[CV] END .......................max_depth=14, max_features=5; total time=   2.5s\n",
      "[CV] END ......................max_depth=14, max_features=25; total time=   6.5s\n",
      "[CV] END ......................max_depth=14, max_features=25; total time=   6.8s\n",
      "[CV] END ......................max_depth=14, max_features=25; total time=   6.8s\n",
      "[CV] END ......................max_depth=13, max_features=85; total time=  17.4s\n",
      "[CV] END ......................max_depth=14, max_features=25; total time=   6.5s\n",
      "[CV] END ......................max_depth=14, max_features=25; total time=   7.1s\n",
      "[CV] END ......................max_depth=14, max_features=45; total time=  10.3s\n",
      "[CV] END ......................max_depth=14, max_features=45; total time=  10.3s\n",
      "[CV] END ......................max_depth=14, max_features=45; total time=  10.5s\n",
      "[CV] END ......................max_depth=14, max_features=45; total time=  11.2s\n",
      "[CV] END ......................max_depth=14, max_features=45; total time=  10.8s\n",
      "[CV] END ......................max_depth=14, max_features=65; total time=  15.4s\n",
      "[CV] END ......................max_depth=14, max_features=65; total time=  14.4s\n",
      "[CV] END ......................max_depth=14, max_features=65; total time=  15.0s\n",
      "[CV] END ......................max_depth=14, max_features=65; total time=  13.9s\n",
      "[CV] END ......................max_depth=14, max_features=65; total time=  14.1s\n",
      "[CV] END ......................max_depth=14, max_features=85; total time=  18.3s\n",
      "[CV] END ......................max_depth=14, max_features=85; total time=  18.4s\n",
      "[CV] END ......................max_depth=14, max_features=85; total time=  17.8s\n",
      "[CV] END .......................max_depth=15, max_features=5; total time=   2.5s\n",
      "[CV] END .......................max_depth=15, max_features=5; total time=   2.5s\n",
      "[CV] END .......................max_depth=15, max_features=5; total time=   2.5s\n",
      "[CV] END .......................max_depth=15, max_features=5; total time=   2.7s\n",
      "[CV] END .......................max_depth=15, max_features=5; total time=   2.8s\n",
      "[CV] END ......................max_depth=14, max_features=85; total time=  18.2s\n",
      "[CV] END ......................max_depth=15, max_features=25; total time=   6.9s\n",
      "[CV] END ......................max_depth=14, max_features=85; total time=  18.3s\n",
      "[CV] END ......................max_depth=15, max_features=25; total time=   7.2s\n",
      "[CV] END ......................max_depth=15, max_features=25; total time=   7.0s\n",
      "[CV] END ......................max_depth=15, max_features=25; total time=   7.1s\n",
      "[CV] END ......................max_depth=15, max_features=25; total time=   7.0s\n",
      "[CV] END ......................max_depth=15, max_features=45; total time=  11.4s\n",
      "[CV] END ......................max_depth=15, max_features=45; total time=  11.1s\n",
      "[CV] END ......................max_depth=15, max_features=45; total time=  10.8s\n",
      "[CV] END ......................max_depth=15, max_features=45; total time=  10.7s\n",
      "[CV] END ......................max_depth=15, max_features=45; total time=  11.5s\n",
      "[CV] END ......................max_depth=15, max_features=65; total time=  15.6s\n",
      "[CV] END ......................max_depth=15, max_features=65; total time=  15.0s\n",
      "[CV] END ......................max_depth=15, max_features=65; total time=  14.7s\n",
      "[CV] END ......................max_depth=15, max_features=65; total time=  15.2s\n",
      "[CV] END ......................max_depth=15, max_features=65; total time=  15.2s\n",
      "[CV] END ......................max_depth=15, max_features=85; total time=  18.6s\n",
      "[CV] END ......................max_depth=15, max_features=85; total time=  19.1s\n",
      "[CV] END .......................max_depth=16, max_features=5; total time=   2.5s\n",
      "[CV] END .......................max_depth=16, max_features=5; total time=   2.6s\n",
      "[CV] END ......................max_depth=15, max_features=85; total time=  19.9s\n",
      "[CV] END .......................max_depth=16, max_features=5; total time=   2.6s\n",
      "[CV] END .......................max_depth=16, max_features=5; total time=   2.7s\n",
      "[CV] END .......................max_depth=16, max_features=5; total time=   2.6s\n",
      "[CV] END ......................max_depth=15, max_features=85; total time=  19.0s\n",
      "[CV] END ......................max_depth=16, max_features=25; total time=   7.6s\n",
      "[CV] END ......................max_depth=16, max_features=25; total time=   7.2s\n",
      "[CV] END ......................max_depth=15, max_features=85; total time=  19.1s\n",
      "[CV] END ......................max_depth=16, max_features=25; total time=   7.9s\n",
      "[CV] END ......................max_depth=16, max_features=25; total time=   7.3s\n",
      "[CV] END ......................max_depth=16, max_features=25; total time=   8.0s\n",
      "[CV] END ......................max_depth=16, max_features=45; total time=  11.8s\n",
      "[CV] END ......................max_depth=16, max_features=45; total time=  11.7s\n",
      "[CV] END ......................max_depth=16, max_features=45; total time=  11.3s\n",
      "[CV] END ......................max_depth=16, max_features=45; total time=  11.8s\n",
      "[CV] END ......................max_depth=16, max_features=45; total time=  11.2s\n",
      "[CV] END ......................max_depth=16, max_features=65; total time=  16.0s\n",
      "[CV] END ......................max_depth=16, max_features=65; total time=  15.7s\n",
      "[CV] END ......................max_depth=16, max_features=65; total time=  16.2s\n",
      "[CV] END ......................max_depth=16, max_features=65; total time=  14.9s\n",
      "[CV] END ......................max_depth=16, max_features=65; total time=  15.8s\n",
      "[CV] END ......................max_depth=16, max_features=85; total time=  19.4s\n",
      "[CV] END ......................max_depth=16, max_features=85; total time=  20.7s\n",
      "[CV] END ......................max_depth=16, max_features=85; total time=  19.2s\n",
      "[CV] END .......................max_depth=17, max_features=5; total time=   2.9s\n",
      "[CV] END .......................max_depth=17, max_features=5; total time=   2.7s\n",
      "[CV] END .......................max_depth=17, max_features=5; total time=   2.9s\n",
      "[CV] END .......................max_depth=17, max_features=5; total time=   2.8s\n",
      "[CV] END ......................max_depth=16, max_features=85; total time=  19.8s\n",
      "[CV] END .......................max_depth=17, max_features=5; total time=   2.9s\n",
      "[CV] END ......................max_depth=17, max_features=25; total time=   7.2s\n",
      "[CV] END ......................max_depth=17, max_features=25; total time=   7.7s\n",
      "[CV] END ......................max_depth=17, max_features=25; total time=   7.8s\n",
      "[CV] END ......................max_depth=16, max_features=85; total time=  19.7s\n",
      "[CV] END ......................max_depth=17, max_features=25; total time=   7.6s\n",
      "[CV] END ......................max_depth=17, max_features=25; total time=   8.0s\n",
      "[CV] END ......................max_depth=17, max_features=45; total time=  12.4s\n",
      "[CV] END ......................max_depth=17, max_features=45; total time=  11.8s\n",
      "[CV] END ......................max_depth=17, max_features=45; total time=  11.8s\n",
      "[CV] END ......................max_depth=17, max_features=45; total time=  11.9s\n",
      "[CV] END ......................max_depth=17, max_features=45; total time=  12.4s\n",
      "[CV] END ......................max_depth=17, max_features=65; total time=  16.0s\n",
      "[CV] END ......................max_depth=17, max_features=65; total time=  16.4s\n",
      "[CV] END ......................max_depth=17, max_features=65; total time=  16.2s\n",
      "[CV] END ......................max_depth=17, max_features=65; total time=  16.4s\n",
      "[CV] END ......................max_depth=17, max_features=65; total time=  16.1s\n",
      "[CV] END ......................max_depth=17, max_features=85; total time=  20.9s\n",
      "[CV] END ......................max_depth=17, max_features=85; total time=  21.1s\n",
      "[CV] END .......................max_depth=18, max_features=5; total time=   2.9s\n",
      "[CV] END .......................max_depth=18, max_features=5; total time=   3.0s\n",
      "[CV] END ......................max_depth=17, max_features=85; total time=  21.5s\n",
      "[CV] END ......................max_depth=17, max_features=85; total time=  20.0s\n",
      "[CV] END .......................max_depth=18, max_features=5; total time=   3.0s\n",
      "[CV] END .......................max_depth=18, max_features=5; total time=   3.1s\n"
     ]
    },
    {
     "name": "stdout",
     "output_type": "stream",
     "text": [
      "[CV] END .......................max_depth=18, max_features=5; total time=   3.0s\n",
      "[CV] END ......................max_depth=18, max_features=25; total time=   7.8s\n",
      "[CV] END ......................max_depth=18, max_features=25; total time=   8.0s\n",
      "[CV] END ......................max_depth=18, max_features=25; total time=   7.5s\n",
      "[CV] END ......................max_depth=17, max_features=85; total time=  21.1s\n",
      "[CV] END ......................max_depth=18, max_features=25; total time=   8.3s\n",
      "[CV] END ......................max_depth=18, max_features=25; total time=   8.9s\n",
      "[CV] END ......................max_depth=18, max_features=45; total time=  12.6s\n",
      "[CV] END ......................max_depth=18, max_features=45; total time=  12.8s\n",
      "[CV] END ......................max_depth=18, max_features=45; total time=  12.6s\n",
      "[CV] END ......................max_depth=18, max_features=45; total time=  12.4s\n",
      "[CV] END ......................max_depth=18, max_features=45; total time=  11.5s\n",
      "[CV] END ......................max_depth=18, max_features=65; total time=  16.8s\n",
      "[CV] END ......................max_depth=18, max_features=65; total time=  16.8s\n",
      "[CV] END ......................max_depth=18, max_features=65; total time=  17.3s\n",
      "[CV] END ......................max_depth=18, max_features=65; total time=  15.8s\n",
      "[CV] END ......................max_depth=18, max_features=65; total time=  16.0s\n",
      "[CV] END ......................max_depth=18, max_features=85; total time=  21.2s\n",
      "[CV] END ......................max_depth=18, max_features=85; total time=  21.1s\n",
      "[CV] END ......................max_depth=18, max_features=85; total time=  20.7s\n",
      "[CV] END .......................max_depth=19, max_features=5; total time=   3.1s\n",
      "[CV] END .......................max_depth=19, max_features=5; total time=   2.9s\n",
      "[CV] END .......................max_depth=19, max_features=5; total time=   3.1s\n",
      "[CV] END .......................max_depth=19, max_features=5; total time=   2.9s\n",
      "[CV] END ......................max_depth=18, max_features=85; total time=  20.7s\n",
      "[CV] END .......................max_depth=19, max_features=5; total time=   3.2s\n",
      "[CV] END ......................max_depth=19, max_features=25; total time=   7.6s\n",
      "[CV] END ......................max_depth=19, max_features=25; total time=   7.7s\n",
      "[CV] END ......................max_depth=19, max_features=25; total time=   8.4s\n",
      "[CV] END ......................max_depth=18, max_features=85; total time=  21.5s\n",
      "[CV] END ......................max_depth=19, max_features=25; total time=   7.8s\n",
      "[CV] END ......................max_depth=19, max_features=25; total time=   7.9s\n",
      "[CV] END ......................max_depth=19, max_features=45; total time=  13.1s\n",
      "[CV] END ......................max_depth=19, max_features=45; total time=  12.6s\n",
      "[CV] END ......................max_depth=19, max_features=45; total time=  12.4s\n",
      "[CV] END ......................max_depth=19, max_features=45; total time=  12.8s\n",
      "[CV] END ......................max_depth=19, max_features=45; total time=  12.8s\n",
      "[CV] END ......................max_depth=19, max_features=65; total time=  17.2s\n",
      "[CV] END ......................max_depth=19, max_features=65; total time=  16.2s\n",
      "[CV] END ......................max_depth=19, max_features=65; total time=  16.7s\n",
      "[CV] END ......................max_depth=19, max_features=65; total time=  17.5s\n",
      "[CV] END ......................max_depth=19, max_features=65; total time=  16.9s\n",
      "[CV] END ......................max_depth=19, max_features=85; total time=  21.0s\n",
      "[CV] END ......................max_depth=19, max_features=85; total time=  21.7s\n",
      "[CV] END .......................max_depth=20, max_features=5; total time=   3.1s\n",
      "[CV] END .......................max_depth=20, max_features=5; total time=   3.0s\n",
      "[CV] END ......................max_depth=19, max_features=85; total time=  22.6s\n",
      "[CV] END .......................max_depth=20, max_features=5; total time=   3.3s\n",
      "[CV] END .......................max_depth=20, max_features=5; total time=   3.2s\n",
      "[CV] END .......................max_depth=20, max_features=5; total time=   3.1s\n",
      "[CV] END ......................max_depth=19, max_features=85; total time=  21.5s\n",
      "[CV] END ......................max_depth=19, max_features=85; total time=  20.4s\n",
      "[CV] END ......................max_depth=20, max_features=25; total time=   7.9s\n",
      "[CV] END ......................max_depth=20, max_features=25; total time=   8.8s\n",
      "[CV] END ......................max_depth=20, max_features=25; total time=   8.3s\n",
      "[CV] END ......................max_depth=20, max_features=25; total time=   7.9s\n",
      "[CV] END ......................max_depth=20, max_features=25; total time=   8.4s\n",
      "[CV] END ......................max_depth=20, max_features=45; total time=  13.1s\n",
      "[CV] END ......................max_depth=20, max_features=45; total time=  12.8s\n",
      "[CV] END ......................max_depth=20, max_features=45; total time=  12.2s\n",
      "[CV] END ......................max_depth=20, max_features=45; total time=  12.4s\n",
      "[CV] END ......................max_depth=20, max_features=45; total time=  13.0s\n",
      "[CV] END ......................max_depth=20, max_features=65; total time=  17.4s\n",
      "[CV] END ......................max_depth=20, max_features=65; total time=  16.2s\n",
      "[CV] END ......................max_depth=20, max_features=65; total time=  17.3s\n",
      "[CV] END ......................max_depth=20, max_features=65; total time=  17.4s\n",
      "[CV] END ......................max_depth=20, max_features=65; total time=  17.7s\n",
      "[CV] END ......................max_depth=20, max_features=85; total time=  21.6s\n",
      "[CV] END ......................max_depth=20, max_features=85; total time=  22.0s\n",
      "[CV] END ......................max_depth=20, max_features=85; total time=  22.1s\n",
      "[CV] END ......................max_depth=20, max_features=85; total time=  19.9s\n",
      "[CV] END ......................max_depth=20, max_features=85; total time=  16.9s\n"
     ]
    }
   ],
   "source": [
    "forest_params = {'max_depth': range(10, 21),\n",
    "                 'max_features': range(5, 105, 20)}\n",
    "\n",
    "from joblib import parallel_backend\n",
    "\n",
    "with parallel_backend('threading', n_jobs=4):\n",
    "    grid_forest = GridSearchCV(RandomForestClassifier(random_state=17), param_grid=forest_params, cv=5, verbose=2)\n",
    "    grid_forest.fit(X_train, y_train)"
   ]
  },
  {
   "cell_type": "code",
   "execution_count": 56,
   "id": "08c4628a",
   "metadata": {},
   "outputs": [
    {
     "name": "stdout",
     "output_type": "stream",
     "text": [
      "Forest grid accuracy: 0.8628462625145875\n"
     ]
    }
   ],
   "source": [
    "y_pred_grid_forest = grid_forest.predict(X_test)\n",
    "print(\"Forest grid accuracy:\", accuracy_score(y_test, y_pred_grid_forest))"
   ]
  },
  {
   "cell_type": "markdown",
   "id": "471507d1",
   "metadata": {},
   "source": [
    "Better!"
   ]
  },
  {
   "cell_type": "code",
   "execution_count": null,
   "id": "230c7392",
   "metadata": {},
   "outputs": [],
   "source": []
  }
 ],
 "metadata": {
  "kernelspec": {
   "display_name": "Python 3",
   "language": "python",
   "name": "python3"
  },
  "language_info": {
   "codemirror_mode": {
    "name": "ipython",
    "version": 3
   },
   "file_extension": ".py",
   "mimetype": "text/x-python",
   "name": "python",
   "nbconvert_exporter": "python",
   "pygments_lexer": "ipython3",
   "version": "3.9.6"
  }
 },
 "nbformat": 4,
 "nbformat_minor": 5
}
