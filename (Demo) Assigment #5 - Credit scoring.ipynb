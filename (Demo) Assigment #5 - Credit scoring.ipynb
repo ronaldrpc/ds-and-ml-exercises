{
 "cells": [
  {
   "cell_type": "markdown",
   "id": "5227fc92",
   "metadata": {},
   "source": [
    "# Credit scoring problem\n",
    "\n",
    "Predict whether the customer will repay their credit within 90 days."
   ]
  },
  {
   "cell_type": "code",
   "execution_count": 65,
   "id": "f9b4c67d",
   "metadata": {},
   "outputs": [],
   "source": [
    "import numpy as np\n",
    "import pandas as pd\n",
    "import matplotlib.pyplot as plt\n",
    "import seaborn as sns\n",
    "\n",
    "from sklearn.model_selection import train_test_split\n",
    "from sklearn.impute import SimpleImputer\n",
    "\n",
    "from sklearn.linear_model import LogisticRegression\n",
    "from sklearn.model_selection import GridSearchCV, StratifiedKFold, RandomizedSearchCV, cross_val_score\n",
    "from sklearn.ensemble import RandomForestClassifier, BaggingClassifier\n",
    "\n",
    "%matplotlib inline\n",
    "sns.set()"
   ]
  },
  {
   "cell_type": "code",
   "execution_count": 2,
   "id": "f2391fc4",
   "metadata": {},
   "outputs": [
    {
     "data": {
      "text/html": [
       "<div>\n",
       "<style scoped>\n",
       "    .dataframe tbody tr th:only-of-type {\n",
       "        vertical-align: middle;\n",
       "    }\n",
       "\n",
       "    .dataframe tbody tr th {\n",
       "        vertical-align: top;\n",
       "    }\n",
       "\n",
       "    .dataframe thead th {\n",
       "        text-align: right;\n",
       "    }\n",
       "</style>\n",
       "<table border=\"1\" class=\"dataframe\">\n",
       "  <thead>\n",
       "    <tr style=\"text-align: right;\">\n",
       "      <th></th>\n",
       "      <th>SeriousDlqin2yrs</th>\n",
       "      <th>age</th>\n",
       "      <th>NumberOfTime30-59DaysPastDueNotWorse</th>\n",
       "      <th>DebtRatio</th>\n",
       "      <th>NumberOfTimes90DaysLate</th>\n",
       "      <th>NumberOfTime60-89DaysPastDueNotWorse</th>\n",
       "      <th>MonthlyIncome</th>\n",
       "      <th>NumberOfDependents</th>\n",
       "    </tr>\n",
       "  </thead>\n",
       "  <tbody>\n",
       "    <tr>\n",
       "      <th>0</th>\n",
       "      <td>0</td>\n",
       "      <td>64</td>\n",
       "      <td>0</td>\n",
       "      <td>0.249908</td>\n",
       "      <td>0</td>\n",
       "      <td>0</td>\n",
       "      <td>8158.0</td>\n",
       "      <td>0.0</td>\n",
       "    </tr>\n",
       "    <tr>\n",
       "      <th>1</th>\n",
       "      <td>0</td>\n",
       "      <td>58</td>\n",
       "      <td>0</td>\n",
       "      <td>3870.000000</td>\n",
       "      <td>0</td>\n",
       "      <td>0</td>\n",
       "      <td>NaN</td>\n",
       "      <td>0.0</td>\n",
       "    </tr>\n",
       "    <tr>\n",
       "      <th>2</th>\n",
       "      <td>0</td>\n",
       "      <td>41</td>\n",
       "      <td>0</td>\n",
       "      <td>0.456127</td>\n",
       "      <td>0</td>\n",
       "      <td>0</td>\n",
       "      <td>6666.0</td>\n",
       "      <td>0.0</td>\n",
       "    </tr>\n",
       "    <tr>\n",
       "      <th>3</th>\n",
       "      <td>0</td>\n",
       "      <td>43</td>\n",
       "      <td>0</td>\n",
       "      <td>0.000190</td>\n",
       "      <td>0</td>\n",
       "      <td>0</td>\n",
       "      <td>10500.0</td>\n",
       "      <td>2.0</td>\n",
       "    </tr>\n",
       "    <tr>\n",
       "      <th>4</th>\n",
       "      <td>1</td>\n",
       "      <td>49</td>\n",
       "      <td>0</td>\n",
       "      <td>0.271820</td>\n",
       "      <td>0</td>\n",
       "      <td>0</td>\n",
       "      <td>400.0</td>\n",
       "      <td>0.0</td>\n",
       "    </tr>\n",
       "  </tbody>\n",
       "</table>\n",
       "</div>"
      ],
      "text/plain": [
       "   SeriousDlqin2yrs  age  NumberOfTime30-59DaysPastDueNotWorse    DebtRatio  \\\n",
       "0                 0   64                                     0     0.249908   \n",
       "1                 0   58                                     0  3870.000000   \n",
       "2                 0   41                                     0     0.456127   \n",
       "3                 0   43                                     0     0.000190   \n",
       "4                 1   49                                     0     0.271820   \n",
       "\n",
       "   NumberOfTimes90DaysLate  NumberOfTime60-89DaysPastDueNotWorse  \\\n",
       "0                        0                                     0   \n",
       "1                        0                                     0   \n",
       "2                        0                                     0   \n",
       "3                        0                                     0   \n",
       "4                        0                                     0   \n",
       "\n",
       "   MonthlyIncome  NumberOfDependents  \n",
       "0         8158.0                 0.0  \n",
       "1            NaN                 0.0  \n",
       "2         6666.0                 0.0  \n",
       "3        10500.0                 2.0  \n",
       "4          400.0                 0.0  "
      ]
     },
     "execution_count": 2,
     "metadata": {},
     "output_type": "execute_result"
    }
   ],
   "source": [
    "df = pd.read_csv('data/credit_scoring_sample.csv', sep=';')\n",
    "df.head()"
   ]
  },
  {
   "cell_type": "code",
   "execution_count": 3,
   "id": "1566a4a1",
   "metadata": {},
   "outputs": [
    {
     "name": "stdout",
     "output_type": "stream",
     "text": [
      "<class 'pandas.core.frame.DataFrame'>\n",
      "RangeIndex: 45063 entries, 0 to 45062\n",
      "Data columns (total 8 columns):\n",
      " #   Column                                Non-Null Count  Dtype  \n",
      "---  ------                                --------------  -----  \n",
      " 0   SeriousDlqin2yrs                      45063 non-null  int64  \n",
      " 1   age                                   45063 non-null  int64  \n",
      " 2   NumberOfTime30-59DaysPastDueNotWorse  45063 non-null  int64  \n",
      " 3   DebtRatio                             45063 non-null  float64\n",
      " 4   NumberOfTimes90DaysLate               45063 non-null  int64  \n",
      " 5   NumberOfTime60-89DaysPastDueNotWorse  45063 non-null  int64  \n",
      " 6   MonthlyIncome                         36420 non-null  float64\n",
      " 7   NumberOfDependents                    43946 non-null  float64\n",
      "dtypes: float64(3), int64(5)\n",
      "memory usage: 2.8 MB\n"
     ]
    }
   ],
   "source": [
    "df.info()"
   ]
  },
  {
   "cell_type": "markdown",
   "id": "eba677be",
   "metadata": {},
   "source": [
    "All features are numerical type."
   ]
  },
  {
   "cell_type": "code",
   "execution_count": 4,
   "id": "86f76658",
   "metadata": {},
   "outputs": [
    {
     "data": {
      "text/html": [
       "<div>\n",
       "<style scoped>\n",
       "    .dataframe tbody tr th:only-of-type {\n",
       "        vertical-align: middle;\n",
       "    }\n",
       "\n",
       "    .dataframe tbody tr th {\n",
       "        vertical-align: top;\n",
       "    }\n",
       "\n",
       "    .dataframe thead th {\n",
       "        text-align: right;\n",
       "    }\n",
       "</style>\n",
       "<table border=\"1\" class=\"dataframe\">\n",
       "  <thead>\n",
       "    <tr style=\"text-align: right;\">\n",
       "      <th></th>\n",
       "      <th>SeriousDlqin2yrs</th>\n",
       "      <th>age</th>\n",
       "      <th>NumberOfTime30-59DaysPastDueNotWorse</th>\n",
       "      <th>DebtRatio</th>\n",
       "      <th>NumberOfTimes90DaysLate</th>\n",
       "      <th>NumberOfTime60-89DaysPastDueNotWorse</th>\n",
       "      <th>MonthlyIncome</th>\n",
       "      <th>NumberOfDependents</th>\n",
       "    </tr>\n",
       "  </thead>\n",
       "  <tbody>\n",
       "    <tr>\n",
       "      <th>count</th>\n",
       "      <td>45063.000000</td>\n",
       "      <td>45063.000000</td>\n",
       "      <td>45063.000000</td>\n",
       "      <td>45063.000000</td>\n",
       "      <td>45063.000000</td>\n",
       "      <td>45063.000000</td>\n",
       "      <td>3.642000e+04</td>\n",
       "      <td>43946.000000</td>\n",
       "    </tr>\n",
       "    <tr>\n",
       "      <th>mean</th>\n",
       "      <td>0.222489</td>\n",
       "      <td>51.210949</td>\n",
       "      <td>0.750993</td>\n",
       "      <td>352.062688</td>\n",
       "      <td>0.570712</td>\n",
       "      <td>0.505870</td>\n",
       "      <td>6.452263e+03</td>\n",
       "      <td>0.789628</td>\n",
       "    </tr>\n",
       "    <tr>\n",
       "      <th>std</th>\n",
       "      <td>0.415922</td>\n",
       "      <td>14.651533</td>\n",
       "      <td>6.184521</td>\n",
       "      <td>2467.556358</td>\n",
       "      <td>6.173106</td>\n",
       "      <td>6.153609</td>\n",
       "      <td>1.263817e+04</td>\n",
       "      <td>1.130813</td>\n",
       "    </tr>\n",
       "    <tr>\n",
       "      <th>min</th>\n",
       "      <td>0.000000</td>\n",
       "      <td>21.000000</td>\n",
       "      <td>0.000000</td>\n",
       "      <td>0.000000</td>\n",
       "      <td>0.000000</td>\n",
       "      <td>0.000000</td>\n",
       "      <td>0.000000e+00</td>\n",
       "      <td>0.000000</td>\n",
       "    </tr>\n",
       "    <tr>\n",
       "      <th>25%</th>\n",
       "      <td>0.000000</td>\n",
       "      <td>40.000000</td>\n",
       "      <td>0.000000</td>\n",
       "      <td>0.176373</td>\n",
       "      <td>0.000000</td>\n",
       "      <td>0.000000</td>\n",
       "      <td>3.286000e+03</td>\n",
       "      <td>0.000000</td>\n",
       "    </tr>\n",
       "    <tr>\n",
       "      <th>50%</th>\n",
       "      <td>0.000000</td>\n",
       "      <td>51.000000</td>\n",
       "      <td>0.000000</td>\n",
       "      <td>0.373949</td>\n",
       "      <td>0.000000</td>\n",
       "      <td>0.000000</td>\n",
       "      <td>5.166000e+03</td>\n",
       "      <td>0.000000</td>\n",
       "    </tr>\n",
       "    <tr>\n",
       "      <th>75%</th>\n",
       "      <td>0.000000</td>\n",
       "      <td>62.000000</td>\n",
       "      <td>0.000000</td>\n",
       "      <td>0.857027</td>\n",
       "      <td>0.000000</td>\n",
       "      <td>0.000000</td>\n",
       "      <td>8.000000e+03</td>\n",
       "      <td>1.000000</td>\n",
       "    </tr>\n",
       "    <tr>\n",
       "      <th>max</th>\n",
       "      <td>1.000000</td>\n",
       "      <td>107.000000</td>\n",
       "      <td>98.000000</td>\n",
       "      <td>326442.000000</td>\n",
       "      <td>98.000000</td>\n",
       "      <td>98.000000</td>\n",
       "      <td>1.794060e+06</td>\n",
       "      <td>10.000000</td>\n",
       "    </tr>\n",
       "  </tbody>\n",
       "</table>\n",
       "</div>"
      ],
      "text/plain": [
       "       SeriousDlqin2yrs           age  NumberOfTime30-59DaysPastDueNotWorse  \\\n",
       "count      45063.000000  45063.000000                          45063.000000   \n",
       "mean           0.222489     51.210949                              0.750993   \n",
       "std            0.415922     14.651533                              6.184521   \n",
       "min            0.000000     21.000000                              0.000000   \n",
       "25%            0.000000     40.000000                              0.000000   \n",
       "50%            0.000000     51.000000                              0.000000   \n",
       "75%            0.000000     62.000000                              0.000000   \n",
       "max            1.000000    107.000000                             98.000000   \n",
       "\n",
       "           DebtRatio  NumberOfTimes90DaysLate  \\\n",
       "count   45063.000000             45063.000000   \n",
       "mean      352.062688                 0.570712   \n",
       "std      2467.556358                 6.173106   \n",
       "min         0.000000                 0.000000   \n",
       "25%         0.176373                 0.000000   \n",
       "50%         0.373949                 0.000000   \n",
       "75%         0.857027                 0.000000   \n",
       "max    326442.000000                98.000000   \n",
       "\n",
       "       NumberOfTime60-89DaysPastDueNotWorse  MonthlyIncome  NumberOfDependents  \n",
       "count                          45063.000000   3.642000e+04        43946.000000  \n",
       "mean                               0.505870   6.452263e+03            0.789628  \n",
       "std                                6.153609   1.263817e+04            1.130813  \n",
       "min                                0.000000   0.000000e+00            0.000000  \n",
       "25%                                0.000000   3.286000e+03            0.000000  \n",
       "50%                                0.000000   5.166000e+03            0.000000  \n",
       "75%                                0.000000   8.000000e+03            1.000000  \n",
       "max                               98.000000   1.794060e+06           10.000000  "
      ]
     },
     "execution_count": 4,
     "metadata": {},
     "output_type": "execute_result"
    }
   ],
   "source": [
    "df.describe()"
   ]
  },
  {
   "cell_type": "code",
   "execution_count": 5,
   "id": "60da9795",
   "metadata": {},
   "outputs": [
    {
     "data": {
      "text/plain": [
       "SeriousDlqin2yrs                           0\n",
       "age                                        0\n",
       "NumberOfTime30-59DaysPastDueNotWorse       0\n",
       "DebtRatio                                  0\n",
       "NumberOfTimes90DaysLate                    0\n",
       "NumberOfTime60-89DaysPastDueNotWorse       0\n",
       "MonthlyIncome                           8643\n",
       "NumberOfDependents                      1117\n",
       "dtype: int64"
      ]
     },
     "execution_count": 5,
     "metadata": {},
     "output_type": "execute_result"
    }
   ],
   "source": [
    "df.isna().sum()"
   ]
  },
  {
   "cell_type": "code",
   "execution_count": 6,
   "id": "edc8be8d",
   "metadata": {},
   "outputs": [
    {
     "data": {
      "image/png": "[encoded data removed]",
      "text/plain": [
       "<Figure size 1080x720 with 9 Axes>"
      ]
     },
     "metadata": {},
     "output_type": "display_data"
    }
   ],
   "source": [
    "df.hist(figsize=(15, 10));"
   ]
  },
  {
   "cell_type": "markdown",
   "id": "843236f3",
   "metadata": {},
   "source": [
    "As we see in the first histogram, the target variable `SeriousDlqin2yrs` contains imbalanced classes (data values)."
   ]
  },
  {
   "cell_type": "code",
   "execution_count": 7,
   "id": "860ea983",
   "metadata": {},
   "outputs": [
    {
     "data": {
      "text/plain": [
       "0    35037\n",
       "1    10026\n",
       "Name: SeriousDlqin2yrs, dtype: int64"
      ]
     },
     "execution_count": 7,
     "metadata": {},
     "output_type": "execute_result"
    }
   ],
   "source": [
    "df['SeriousDlqin2yrs'].value_counts()"
   ]
  },
  {
   "cell_type": "markdown",
   "id": "bba2aa48",
   "metadata": {},
   "source": [
    "For imbalanced class data (target values) it's recommended **NOT** to use accuracy as a evaluation metric, because it can be misleading."
   ]
  },
  {
   "cell_type": "code",
   "execution_count": 8,
   "id": "35f75791",
   "metadata": {},
   "outputs": [
    {
     "data": {
      "text/plain": [
       "((45063, 7), (45063,))"
      ]
     },
     "execution_count": 8,
     "metadata": {},
     "output_type": "execute_result"
    }
   ],
   "source": [
    "X = df.drop(['SeriousDlqin2yrs'], axis=1)\n",
    "y = df['SeriousDlqin2yrs']\n",
    "\n",
    "X.shape, y.shape"
   ]
  },
  {
   "cell_type": "code",
   "execution_count": 9,
   "id": "8e5582d2",
   "metadata": {},
   "outputs": [],
   "source": [
    "X_train, X_test, y_train, y_test = train_test_split(X, y, test_size=0.2, random_state=42)"
   ]
  },
  {
   "cell_type": "code",
   "execution_count": 10,
   "id": "529a5514",
   "metadata": {},
   "outputs": [
    {
     "data": {
      "text/html": [
       "<div>\n",
       "<style scoped>\n",
       "    .dataframe tbody tr th:only-of-type {\n",
       "        vertical-align: middle;\n",
       "    }\n",
       "\n",
       "    .dataframe tbody tr th {\n",
       "        vertical-align: top;\n",
       "    }\n",
       "\n",
       "    .dataframe thead th {\n",
       "        text-align: right;\n",
       "    }\n",
       "</style>\n",
       "<table border=\"1\" class=\"dataframe\">\n",
       "  <thead>\n",
       "    <tr style=\"text-align: right;\">\n",
       "      <th></th>\n",
       "      <th>age</th>\n",
       "      <th>NumberOfTime30-59DaysPastDueNotWorse</th>\n",
       "      <th>DebtRatio</th>\n",
       "      <th>NumberOfTimes90DaysLate</th>\n",
       "      <th>NumberOfTime60-89DaysPastDueNotWorse</th>\n",
       "      <th>MonthlyIncome</th>\n",
       "      <th>NumberOfDependents</th>\n",
       "    </tr>\n",
       "  </thead>\n",
       "  <tbody>\n",
       "    <tr>\n",
       "      <th>29039</th>\n",
       "      <td>42</td>\n",
       "      <td>2</td>\n",
       "      <td>0.610770</td>\n",
       "      <td>5</td>\n",
       "      <td>0</td>\n",
       "      <td>3583.0</td>\n",
       "      <td>0.0</td>\n",
       "    </tr>\n",
       "    <tr>\n",
       "      <th>39939</th>\n",
       "      <td>43</td>\n",
       "      <td>0</td>\n",
       "      <td>0.275029</td>\n",
       "      <td>0</td>\n",
       "      <td>0</td>\n",
       "      <td>13583.0</td>\n",
       "      <td>1.0</td>\n",
       "    </tr>\n",
       "    <tr>\n",
       "      <th>5172</th>\n",
       "      <td>37</td>\n",
       "      <td>1</td>\n",
       "      <td>0.468790</td>\n",
       "      <td>0</td>\n",
       "      <td>1</td>\n",
       "      <td>7000.0</td>\n",
       "      <td>2.0</td>\n",
       "    </tr>\n",
       "    <tr>\n",
       "      <th>40842</th>\n",
       "      <td>22</td>\n",
       "      <td>0</td>\n",
       "      <td>0.000000</td>\n",
       "      <td>0</td>\n",
       "      <td>0</td>\n",
       "      <td>3600.0</td>\n",
       "      <td>0.0</td>\n",
       "    </tr>\n",
       "    <tr>\n",
       "      <th>2295</th>\n",
       "      <td>49</td>\n",
       "      <td>1</td>\n",
       "      <td>0.264999</td>\n",
       "      <td>0</td>\n",
       "      <td>0</td>\n",
       "      <td>5916.0</td>\n",
       "      <td>3.0</td>\n",
       "    </tr>\n",
       "  </tbody>\n",
       "</table>\n",
       "</div>"
      ],
      "text/plain": [
       "       age  NumberOfTime30-59DaysPastDueNotWorse  DebtRatio  \\\n",
       "29039   42                                     2   0.610770   \n",
       "39939   43                                     0   0.275029   \n",
       "5172    37                                     1   0.468790   \n",
       "40842   22                                     0   0.000000   \n",
       "2295    49                                     1   0.264999   \n",
       "\n",
       "       NumberOfTimes90DaysLate  NumberOfTime60-89DaysPastDueNotWorse  \\\n",
       "29039                        5                                     0   \n",
       "39939                        0                                     0   \n",
       "5172                         0                                     1   \n",
       "40842                        0                                     0   \n",
       "2295                         0                                     0   \n",
       "\n",
       "       MonthlyIncome  NumberOfDependents  \n",
       "29039         3583.0                 0.0  \n",
       "39939        13583.0                 1.0  \n",
       "5172          7000.0                 2.0  \n",
       "40842         3600.0                 0.0  \n",
       "2295          5916.0                 3.0  "
      ]
     },
     "execution_count": 10,
     "metadata": {},
     "output_type": "execute_result"
    }
   ],
   "source": [
    "X_train.head()"
   ]
  },
  {
   "cell_type": "code",
   "execution_count": 11,
   "id": "aab34714",
   "metadata": {},
   "outputs": [
    {
     "data": {
      "text/plain": [
       "age                                        0\n",
       "NumberOfTime30-59DaysPastDueNotWorse       0\n",
       "DebtRatio                                  0\n",
       "NumberOfTimes90DaysLate                    0\n",
       "NumberOfTime60-89DaysPastDueNotWorse       0\n",
       "MonthlyIncome                           6934\n",
       "NumberOfDependents                       891\n",
       "dtype: int64"
      ]
     },
     "execution_count": 11,
     "metadata": {},
     "output_type": "execute_result"
    }
   ],
   "source": [
    "X_train.isna().sum()"
   ]
  },
  {
   "cell_type": "markdown",
   "id": "c5a26c93",
   "metadata": {},
   "source": [
    "### Fill missing values"
   ]
  },
  {
   "cell_type": "code",
   "execution_count": 12,
   "id": "59e5392a",
   "metadata": {},
   "outputs": [],
   "source": [
    "imputer = SimpleImputer(strategy='median')\n",
    "X_train_imputed = imputer.fit_transform(X_train)\n",
    "X_test_imputed = imputer.transform(X_test)\n",
    "\n",
    "X_train = pd.DataFrame(data=X_train_imputed, columns=X_train.columns, index=X_train.index)\n",
    "X_test = pd.DataFrame(data=X_test_imputed, columns=X_train.columns, index=X_test.index)"
   ]
  },
  {
   "cell_type": "code",
   "execution_count": 13,
   "id": "e4555bc7",
   "metadata": {},
   "outputs": [
    {
     "data": {
      "text/html": [
       "<div>\n",
       "<style scoped>\n",
       "    .dataframe tbody tr th:only-of-type {\n",
       "        vertical-align: middle;\n",
       "    }\n",
       "\n",
       "    .dataframe tbody tr th {\n",
       "        vertical-align: top;\n",
       "    }\n",
       "\n",
       "    .dataframe thead th {\n",
       "        text-align: right;\n",
       "    }\n",
       "</style>\n",
       "<table border=\"1\" class=\"dataframe\">\n",
       "  <thead>\n",
       "    <tr style=\"text-align: right;\">\n",
       "      <th></th>\n",
       "      <th>age</th>\n",
       "      <th>NumberOfTime30-59DaysPastDueNotWorse</th>\n",
       "      <th>DebtRatio</th>\n",
       "      <th>NumberOfTimes90DaysLate</th>\n",
       "      <th>NumberOfTime60-89DaysPastDueNotWorse</th>\n",
       "      <th>MonthlyIncome</th>\n",
       "      <th>NumberOfDependents</th>\n",
       "    </tr>\n",
       "  </thead>\n",
       "  <tbody>\n",
       "    <tr>\n",
       "      <th>29039</th>\n",
       "      <td>42.0</td>\n",
       "      <td>2.0</td>\n",
       "      <td>0.610770</td>\n",
       "      <td>5.0</td>\n",
       "      <td>0.0</td>\n",
       "      <td>3583.0</td>\n",
       "      <td>0.0</td>\n",
       "    </tr>\n",
       "    <tr>\n",
       "      <th>39939</th>\n",
       "      <td>43.0</td>\n",
       "      <td>0.0</td>\n",
       "      <td>0.275029</td>\n",
       "      <td>0.0</td>\n",
       "      <td>0.0</td>\n",
       "      <td>13583.0</td>\n",
       "      <td>1.0</td>\n",
       "    </tr>\n",
       "    <tr>\n",
       "      <th>5172</th>\n",
       "      <td>37.0</td>\n",
       "      <td>1.0</td>\n",
       "      <td>0.468790</td>\n",
       "      <td>0.0</td>\n",
       "      <td>1.0</td>\n",
       "      <td>7000.0</td>\n",
       "      <td>2.0</td>\n",
       "    </tr>\n",
       "    <tr>\n",
       "      <th>40842</th>\n",
       "      <td>22.0</td>\n",
       "      <td>0.0</td>\n",
       "      <td>0.000000</td>\n",
       "      <td>0.0</td>\n",
       "      <td>0.0</td>\n",
       "      <td>3600.0</td>\n",
       "      <td>0.0</td>\n",
       "    </tr>\n",
       "    <tr>\n",
       "      <th>2295</th>\n",
       "      <td>49.0</td>\n",
       "      <td>1.0</td>\n",
       "      <td>0.264999</td>\n",
       "      <td>0.0</td>\n",
       "      <td>0.0</td>\n",
       "      <td>5916.0</td>\n",
       "      <td>3.0</td>\n",
       "    </tr>\n",
       "  </tbody>\n",
       "</table>\n",
       "</div>"
      ],
      "text/plain": [
       "        age  NumberOfTime30-59DaysPastDueNotWorse  DebtRatio  \\\n",
       "29039  42.0                                   2.0   0.610770   \n",
       "39939  43.0                                   0.0   0.275029   \n",
       "5172   37.0                                   1.0   0.468790   \n",
       "40842  22.0                                   0.0   0.000000   \n",
       "2295   49.0                                   1.0   0.264999   \n",
       "\n",
       "       NumberOfTimes90DaysLate  NumberOfTime60-89DaysPastDueNotWorse  \\\n",
       "29039                      5.0                                   0.0   \n",
       "39939                      0.0                                   0.0   \n",
       "5172                       0.0                                   1.0   \n",
       "40842                      0.0                                   0.0   \n",
       "2295                       0.0                                   0.0   \n",
       "\n",
       "       MonthlyIncome  NumberOfDependents  \n",
       "29039         3583.0                 0.0  \n",
       "39939        13583.0                 1.0  \n",
       "5172          7000.0                 2.0  \n",
       "40842         3600.0                 0.0  \n",
       "2295          5916.0                 3.0  "
      ]
     },
     "execution_count": 13,
     "metadata": {},
     "output_type": "execute_result"
    }
   ],
   "source": [
    "X_train.head()"
   ]
  },
  {
   "cell_type": "code",
   "execution_count": 14,
   "id": "c7c975fd",
   "metadata": {},
   "outputs": [
    {
     "data": {
      "text/plain": [
       "age                                     0\n",
       "NumberOfTime30-59DaysPastDueNotWorse    0\n",
       "DebtRatio                               0\n",
       "NumberOfTimes90DaysLate                 0\n",
       "NumberOfTime60-89DaysPastDueNotWorse    0\n",
       "MonthlyIncome                           0\n",
       "NumberOfDependents                      0\n",
       "dtype: int64"
      ]
     },
     "execution_count": 14,
     "metadata": {},
     "output_type": "execute_result"
    }
   ],
   "source": [
    "X_train.isna().sum()"
   ]
  },
  {
   "cell_type": "markdown",
   "id": "95f2705f",
   "metadata": {},
   "source": [
    "### Bootstrapping"
   ]
  },
  {
   "cell_type": "markdown",
   "id": "ac547cc4",
   "metadata": {},
   "source": [
    "**Make an interval estimate of the average age for the customers who delayed repayment at the 90% confidence level. Use the example from the article as reference, if needed. Also, use np.random.seed(0) as before. What is the resulting interval estimate?**"
   ]
  },
  {
   "cell_type": "code",
   "execution_count": 15,
   "id": "bd135e32",
   "metadata": {},
   "outputs": [
    {
     "name": "stdout",
     "output_type": "stream",
     "text": [
      "Age mean intervals: [51.04813592 51.30838696]\n"
     ]
    }
   ],
   "source": [
    "np.random.seed(0)\n",
    "\n",
    "def get_bootstrap_samples(data, n_samples):\n",
    "    \"\"\"Generate bootstrap samples using the bootstrap method.\"\"\"\n",
    "    indices = np.random.randint(0, len(data), (n_samples, len(data)))\n",
    "    samples = data[indices]\n",
    "    return samples\n",
    "\n",
    "\n",
    "def stat_intervals(stat, alpha):\n",
    "    \"\"\"Produce an interval estimate.\"\"\"\n",
    "    boundaries = np.percentile(stat, [100 * alpha / 2.0, 100 * (1 - alpha / 2.0)])\n",
    "    return boundaries\n",
    "\n",
    "delayed_customers = X_train.loc[(y_train == 1).index, 'age'].values\n",
    "\n",
    "age_mean_scores = [np.mean(sample) for sample in get_bootstrap_samples(delayed_customers, 1000)]\n",
    "\n",
    "print(\"Age mean intervals:\", stat_intervals(age_mean_scores, 0.1))"
   ]
  },
  {
   "cell_type": "markdown",
   "id": "ddd06fd5",
   "metadata": {},
   "source": [
    "### Logistic Regression"
   ]
  },
  {
   "cell_type": "markdown",
   "id": "87e25919",
   "metadata": {},
   "source": [
    "**Perform a Grid Search with the scoring metric \"roc_auc\" for the parameter C. Which value of the parameter C is optimal?**"
   ]
  },
  {
   "cell_type": "code",
   "execution_count": 16,
   "id": "61e99ef6",
   "metadata": {},
   "outputs": [],
   "source": [
    "log_params = {'C': (0.0001, 0.001, 0.01, 0.1, 1, 10)}\n",
    "\n",
    "skf = StratifiedKFold(n_splits=5, shuffle=True, random_state=5)\n",
    "log_reg = LogisticRegression(class_weight='balanced', random_state=5)\n",
    "grid_log = GridSearchCV(log_reg, log_params, scoring='roc_auc', cv=skf)"
   ]
  },
  {
   "cell_type": "markdown",
   "id": "5a32515d",
   "metadata": {},
   "source": [
    "One of the important metrics of model quality is the Area Under the Curve (AUC). ROC AUC varies from 0 to 1. The closer ROC AUC is to 1, the better the quality of the classification model."
   ]
  },
  {
   "cell_type": "code",
   "execution_count": 17,
   "id": "1c674705",
   "metadata": {},
   "outputs": [
    {
     "name": "stderr",
     "output_type": "stream",
     "text": [
      "/home/lel/Escritorio/ml-projects/mlcourse/env/lib/python3.9/site-packages/sklearn/linear_model/_logistic.py:763: ConvergenceWarning: lbfgs failed to converge (status=1):\n",
      "STOP: TOTAL NO. of ITERATIONS REACHED LIMIT.\n",
      "\n",
      "Increase the number of iterations (max_iter) or scale the data as shown in:\n",
      "    https://scikit-learn.org/stable/modules/preprocessing.html\n",
      "Please also refer to the documentation for alternative solver options:\n",
      "    https://scikit-learn.org/stable/modules/linear_model.html#logistic-regression\n",
      "  n_iter_i = _check_optimize_result(\n",
      "/home/lel/Escritorio/ml-projects/mlcourse/env/lib/python3.9/site-packages/sklearn/linear_model/_logistic.py:763: ConvergenceWarning: lbfgs failed to converge (status=1):\n",
      "STOP: TOTAL NO. of ITERATIONS REACHED LIMIT.\n",
      "\n",
      "Increase the number of iterations (max_iter) or scale the data as shown in:\n",
      "    https://scikit-learn.org/stable/modules/preprocessing.html\n",
      "Please also refer to the documentation for alternative solver options:\n",
      "    https://scikit-learn.org/stable/modules/linear_model.html#logistic-regression\n",
      "  n_iter_i = _check_optimize_result(\n",
      "/home/lel/Escritorio/ml-projects/mlcourse/env/lib/python3.9/site-packages/sklearn/linear_model/_logistic.py:763: ConvergenceWarning: lbfgs failed to converge (status=1):\n",
      "STOP: TOTAL NO. of ITERATIONS REACHED LIMIT.\n",
      "\n",
      "Increase the number of iterations (max_iter) or scale the data as shown in:\n",
      "    https://scikit-learn.org/stable/modules/preprocessing.html\n",
      "Please also refer to the documentation for alternative solver options:\n",
      "    https://scikit-learn.org/stable/modules/linear_model.html#logistic-regression\n",
      "  n_iter_i = _check_optimize_result(\n"
     ]
    },
    {
     "name": "stdout",
     "output_type": "stream",
     "text": [
      "CPU times: user 21.2 s, sys: 895 ms, total: 22.1 s\n",
      "Wall time: 6.08 s\n"
     ]
    },
    {
     "data": {
      "text/plain": [
       "GridSearchCV(cv=StratifiedKFold(n_splits=5, random_state=5, shuffle=True),\n",
       "             estimator=LogisticRegression(class_weight='balanced',\n",
       "                                          random_state=5),\n",
       "             param_grid={'C': (0.0001, 0.001, 0.01, 0.1, 1, 10)},\n",
       "             scoring='roc_auc')"
      ]
     },
     "execution_count": 17,
     "metadata": {},
     "output_type": "execute_result"
    }
   ],
   "source": [
    "%%time\n",
    "grid_log.fit(X_train, y_train)"
   ]
  },
  {
   "cell_type": "code",
   "execution_count": 18,
   "id": "2caa2332",
   "metadata": {},
   "outputs": [
    {
     "data": {
      "text/plain": [
       "{'C': 0.01}"
      ]
     },
     "execution_count": 18,
     "metadata": {},
     "output_type": "execute_result"
    }
   ],
   "source": [
    "grid_log.best_params_"
   ]
  },
  {
   "cell_type": "markdown",
   "id": "f0156514",
   "metadata": {},
   "source": [
    "**Can we consider the best model stable? The model is stable if the standard deviation on validation is less than 0.5%. Save the ROC AUC value of the best model; it will be useful for the following tasks.**"
   ]
  },
  {
   "cell_type": "code",
   "execution_count": 19,
   "id": "db21902a",
   "metadata": {},
   "outputs": [
    {
     "data": {
      "text/plain": [
       "{'mean_fit_time': array([0.27886186, 0.25231485, 0.11872153, 0.14375844, 0.17104263,\n",
       "        0.17899895]),\n",
       " 'std_fit_time': array([0.10134718, 0.13611739, 0.01162121, 0.02484808, 0.04770385,\n",
       "        0.05812356]),\n",
       " 'mean_score_time': array([0.00807228, 0.00536084, 0.00470738, 0.00477242, 0.00476384,\n",
       "        0.00470386]),\n",
       " 'std_score_time': array([2.19418535e-03, 1.09595869e-03, 3.67459884e-05, 3.87985492e-05,\n",
       "        2.10538590e-05, 2.25592864e-05]),\n",
       " 'param_C': masked_array(data=[0.0001, 0.001, 0.01, 0.1, 1, 10],\n",
       "              mask=[False, False, False, False, False, False],\n",
       "        fill_value='?',\n",
       "             dtype=object),\n",
       " 'params': [{'C': 0.0001},\n",
       "  {'C': 0.001},\n",
       "  {'C': 0.01},\n",
       "  {'C': 0.1},\n",
       "  {'C': 1},\n",
       "  {'C': 10}],\n",
       " 'split0_test_score': array([0.78286732, 0.78706751, 0.80810725, 0.79094478, 0.7864011 ,\n",
       "        0.78640311]),\n",
       " 'split1_test_score': array([0.78731834, 0.81206427, 0.81239798, 0.79919248, 0.79923205,\n",
       "        0.79193216]),\n",
       " 'split2_test_score': array([0.8116706 , 0.81312891, 0.81316048, 0.81315737, 0.8131557 ,\n",
       "        0.81315548]),\n",
       " 'split3_test_score': array([0.78561404, 0.80150917, 0.81665274, 0.79968792, 0.78552022,\n",
       "        0.79030677]),\n",
       " 'split4_test_score': array([0.81233775, 0.78755945, 0.81657405, 0.81661264, 0.81661554,\n",
       "        0.81661609]),\n",
       " 'mean_test_score': array([0.79596161, 0.80026586, 0.8133785 , 0.80391904, 0.80018492,\n",
       "        0.79968272]),\n",
       " 'std_test_score': array([0.01317717, 0.0113301 , 0.00315364, 0.0095399 , 0.01299355,\n",
       "        0.01259033]),\n",
       " 'rank_test_score': array([6, 3, 1, 2, 4, 5], dtype=int32)}"
      ]
     },
     "execution_count": 19,
     "metadata": {},
     "output_type": "execute_result"
    }
   ],
   "source": [
    "grid_log.cv_results_"
   ]
  },
  {
   "cell_type": "code",
   "execution_count": 20,
   "id": "110a6c32",
   "metadata": {},
   "outputs": [
    {
     "name": "stdout",
     "output_type": "stream",
     "text": [
      "Std on alidation (in %) 0.3495870115592349\n"
     ]
    }
   ],
   "source": [
    "valid_std = np.array([0.01317717, 0.0113301 , 0.00315364, 0.0095399 , 0.01299355, 0.01259033]).std()\n",
    "print(\"Std on alidation (in %)\", valid_std * 100)"
   ]
  },
  {
   "cell_type": "markdown",
   "id": "716a036f",
   "metadata": {},
   "source": [
    "0.349 is less than 0.5%, so the model is stable."
   ]
  },
  {
   "cell_type": "markdown",
   "id": "ef8a4b80",
   "metadata": {},
   "source": [
    "**Feature importance is defined by the absolute value of its corresponding coefficient. First, you need to normalize all of the feature values so that it will be valid to compare them. What is the most important feature for the best logistic regression model?**"
   ]
  },
  {
   "cell_type": "code",
   "execution_count": 31,
   "id": "c71ab436",
   "metadata": {},
   "outputs": [
    {
     "data": {
      "text/html": [
       "<div>\n",
       "<style scoped>\n",
       "    .dataframe tbody tr th:only-of-type {\n",
       "        vertical-align: middle;\n",
       "    }\n",
       "\n",
       "    .dataframe tbody tr th {\n",
       "        vertical-align: top;\n",
       "    }\n",
       "\n",
       "    .dataframe thead th {\n",
       "        text-align: right;\n",
       "    }\n",
       "</style>\n",
       "<table border=\"1\" class=\"dataframe\">\n",
       "  <thead>\n",
       "    <tr style=\"text-align: right;\">\n",
       "      <th></th>\n",
       "      <th>importance</th>\n",
       "    </tr>\n",
       "  </thead>\n",
       "  <tbody>\n",
       "    <tr>\n",
       "      <th>NumberOfTime30-59DaysPastDueNotWorse</th>\n",
       "      <td>0.503507</td>\n",
       "    </tr>\n",
       "    <tr>\n",
       "      <th>NumberOfTimes90DaysLate</th>\n",
       "      <td>0.455459</td>\n",
       "    </tr>\n",
       "    <tr>\n",
       "      <th>NumberOfTime60-89DaysPastDueNotWorse</th>\n",
       "      <td>0.388990</td>\n",
       "    </tr>\n",
       "    <tr>\n",
       "      <th>NumberOfDependents</th>\n",
       "      <td>0.077781</td>\n",
       "    </tr>\n",
       "    <tr>\n",
       "      <th>age</th>\n",
       "      <td>0.012215</td>\n",
       "    </tr>\n",
       "    <tr>\n",
       "      <th>DebtRatio</th>\n",
       "      <td>0.000010</td>\n",
       "    </tr>\n",
       "    <tr>\n",
       "      <th>MonthlyIncome</th>\n",
       "      <td>0.000006</td>\n",
       "    </tr>\n",
       "  </tbody>\n",
       "</table>\n",
       "</div>"
      ],
      "text/plain": [
       "                                      importance\n",
       "NumberOfTime30-59DaysPastDueNotWorse    0.503507\n",
       "NumberOfTimes90DaysLate                 0.455459\n",
       "NumberOfTime60-89DaysPastDueNotWorse    0.388990\n",
       "NumberOfDependents                      0.077781\n",
       "age                                     0.012215\n",
       "DebtRatio                               0.000010\n",
       "MonthlyIncome                           0.000006"
      ]
     },
     "execution_count": 31,
     "metadata": {},
     "output_type": "execute_result"
    }
   ],
   "source": [
    "# Make a copy of coefficients, or use the parameter copy from pd.DataFrame\n",
    "coefs = grid_log.best_estimator_.coef_.ravel().copy()\n",
    "\n",
    "fi_log = pd.DataFrame(data=coefs, columns=['importance'],\n",
    "                      index=X_train.columns)\n",
    "fi_log['importance'] = np.abs(fi_log['importance'])\n",
    "fi_log.sort_values(by='importance', ascending=False, inplace=True)\n",
    "fi_log"
   ]
  },
  {
   "cell_type": "code",
   "execution_count": 28,
   "id": "ea2ea9c1",
   "metadata": {},
   "outputs": [
    {
     "data": {
      "text/plain": [
       "array([[-1.22149740e-02,  5.03507111e-01, -9.87962661e-06,\n",
       "         4.55459242e-01,  3.88989537e-01, -5.73016875e-06,\n",
       "         7.77810681e-02]])"
      ]
     },
     "execution_count": 28,
     "metadata": {},
     "output_type": "execute_result"
    }
   ],
   "source": [
    "grid_log.best_estimator_.coef_"
   ]
  },
  {
   "cell_type": "markdown",
   "id": "01673c9f",
   "metadata": {},
   "source": [
    "**Calculate how much DebtRatio affects our prediction using the softmax function. What is its value?**"
   ]
  },
  {
   "cell_type": "code",
   "execution_count": 39,
   "id": "20f8cbd2",
   "metadata": {},
   "outputs": [
    {
     "data": {
      "text/plain": [
       "LogisticRegression(C=0.01, class_weight='balanced', multi_class='multinomial',\n",
       "                   random_state=5)"
      ]
     },
     "execution_count": 39,
     "metadata": {},
     "output_type": "execute_result"
    }
   ],
   "source": [
    "#To use softmax function, we need to set multi_class in the logistic regression's constructor\n",
    "log_reg_multi = LogisticRegression(multi_class='multinomial', class_weight='balanced', random_state=5,\n",
    "                                   **grid_log.best_params_)\n",
    "log_reg_multi.fit(X_train, y_train)"
   ]
  },
  {
   "cell_type": "code",
   "execution_count": 42,
   "id": "b5c0e4ac",
   "metadata": {},
   "outputs": [
    {
     "data": {
      "text/plain": [
       "array([[-6.14262200e-03,  2.54072973e-01, -4.94898002e-06,\n",
       "         2.29834750e-01,  1.96316419e-01, -2.89790122e-06,\n",
       "         3.92248479e-02]])"
      ]
     },
     "execution_count": 42,
     "metadata": {},
     "output_type": "execute_result"
    }
   ],
   "source": [
    "log_reg_multi.coef_"
   ]
  },
  {
   "cell_type": "code",
   "execution_count": 46,
   "id": "4ad90e32",
   "metadata": {},
   "outputs": [],
   "source": [
    "def show_feature_importances(coefs, columns, abs_=False, normalize=False, ascending_=False):\n",
    "    #flatten() returns a copy, so there's no need for set the parameter copy=True \n",
    "    df = pd.DataFrame(data=coefs.flatten(), columns=['importance'], index=columns) \n",
    "    if(abs_):\n",
    "        df['importance'] = np.abs(df['importance'])\n",
    "    if(normalize):\n",
    "        df['importance'] = (df['importance']-min(df['importance']))/(max(df['importance'])-min(df['importance']))\n",
    "    \n",
    "    df.sort_values(by='importance', ascending=ascending_)\n",
    "    return df"
   ]
  },
  {
   "cell_type": "code",
   "execution_count": 52,
   "id": "3ed856ee",
   "metadata": {},
   "outputs": [
    {
     "data": {
      "text/html": [
       "<div>\n",
       "<style scoped>\n",
       "    .dataframe tbody tr th:only-of-type {\n",
       "        vertical-align: middle;\n",
       "    }\n",
       "\n",
       "    .dataframe tbody tr th {\n",
       "        vertical-align: top;\n",
       "    }\n",
       "\n",
       "    .dataframe thead th {\n",
       "        text-align: right;\n",
       "    }\n",
       "</style>\n",
       "<table border=\"1\" class=\"dataframe\">\n",
       "  <thead>\n",
       "    <tr style=\"text-align: right;\">\n",
       "      <th></th>\n",
       "      <th>importance</th>\n",
       "    </tr>\n",
       "  </thead>\n",
       "  <tbody>\n",
       "    <tr>\n",
       "      <th>age</th>\n",
       "      <td>0.000000</td>\n",
       "    </tr>\n",
       "    <tr>\n",
       "      <th>NumberOfTime30-59DaysPastDueNotWorse</th>\n",
       "      <td>1.000000</td>\n",
       "    </tr>\n",
       "    <tr>\n",
       "      <th>DebtRatio</th>\n",
       "      <td>0.023587</td>\n",
       "    </tr>\n",
       "    <tr>\n",
       "      <th>NumberOfTimes90DaysLate</th>\n",
       "      <td>0.906853</td>\n",
       "    </tr>\n",
       "    <tr>\n",
       "      <th>NumberOfTime60-89DaysPastDueNotWorse</th>\n",
       "      <td>0.778043</td>\n",
       "    </tr>\n",
       "    <tr>\n",
       "      <th>MonthlyIncome</th>\n",
       "      <td>0.023595</td>\n",
       "    </tr>\n",
       "    <tr>\n",
       "      <th>NumberOfDependents</th>\n",
       "      <td>0.174346</td>\n",
       "    </tr>\n",
       "  </tbody>\n",
       "</table>\n",
       "</div>"
      ],
      "text/plain": [
       "                                      importance\n",
       "age                                     0.000000\n",
       "NumberOfTime30-59DaysPastDueNotWorse    1.000000\n",
       "DebtRatio                               0.023587\n",
       "NumberOfTimes90DaysLate                 0.906853\n",
       "NumberOfTime60-89DaysPastDueNotWorse    0.778043\n",
       "MonthlyIncome                           0.023595\n",
       "NumberOfDependents                      0.174346"
      ]
     },
     "execution_count": 52,
     "metadata": {},
     "output_type": "execute_result"
    }
   ],
   "source": [
    "fi_log_multi = show_feature_importances(log_reg_multi.coef_, X_train.columns, normalize=True)\n",
    "fi_log_multi"
   ]
  },
  {
   "cell_type": "code",
   "execution_count": 45,
   "id": "7abc6261",
   "metadata": {},
   "outputs": [
    {
     "data": {
      "text/plain": [
       "array([[-6.14262200e-03,  2.54072973e-01, -4.94898002e-06,\n",
       "         2.29834750e-01,  1.96316419e-01, -2.89790122e-06,\n",
       "         3.92248479e-02]])"
      ]
     },
     "execution_count": 45,
     "metadata": {},
     "output_type": "execute_result"
    }
   ],
   "source": [
    "log_reg_multi.coef_"
   ]
  },
  {
   "cell_type": "markdown",
   "id": "f892ef53",
   "metadata": {},
   "source": [
    "`flatten()` also works!"
   ]
  },
  {
   "cell_type": "markdown",
   "id": "a50cbe56",
   "metadata": {},
   "source": [
    "### Random forest"
   ]
  },
  {
   "cell_type": "markdown",
   "id": "f6391b6e",
   "metadata": {},
   "source": [
    "**How much higher is the ROC AUC of the best random forest model than that of the best logistic regression on validation?**"
   ]
  },
  {
   "cell_type": "code",
   "execution_count": 54,
   "id": "a00a32eb",
   "metadata": {},
   "outputs": [],
   "source": [
    "forest_params = {'max_features': [1, 2, 4], 'min_samples_leaf': [3, 5, 7, 9], 'max_depth': [5,10,15]}\n",
    "\n",
    "forest = RandomForestClassifier(n_estimators=100, class_weight='balanced', n_jobs=-1, random_state=42)\n",
    "grid_forest = GridSearchCV(forest, forest_params, scoring='roc_auc', cv=skf)"
   ]
  },
  {
   "cell_type": "code",
   "execution_count": 55,
   "id": "7c1fd51c",
   "metadata": {},
   "outputs": [
    {
     "name": "stdout",
     "output_type": "stream",
     "text": [
      "CPU times: user 48.5 s, sys: 4.74 s, total: 53.2 s\n",
      "Wall time: 2min 10s\n"
     ]
    },
    {
     "data": {
      "text/plain": [
       "GridSearchCV(cv=StratifiedKFold(n_splits=5, random_state=5, shuffle=True),\n",
       "             estimator=RandomForestClassifier(class_weight='balanced',\n",
       "                                              n_jobs=-1, random_state=42),\n",
       "             param_grid={'max_depth': [5, 10, 15], 'max_features': [1, 2, 4],\n",
       "                         'min_samples_leaf': [3, 5, 7, 9]},\n",
       "             scoring='roc_auc')"
      ]
     },
     "execution_count": 55,
     "metadata": {},
     "output_type": "execute_result"
    }
   ],
   "source": [
    "%%time\n",
    "grid_forest.fit(X_train, y_train)"
   ]
  },
  {
   "cell_type": "code",
   "execution_count": 56,
   "id": "b49a5475",
   "metadata": {},
   "outputs": [
    {
     "data": {
      "text/plain": [
       "(0.8133785002330232, 0.8358752763999855)"
      ]
     },
     "execution_count": 56,
     "metadata": {},
     "output_type": "execute_result"
    }
   ],
   "source": [
    "grid_log.best_score_, grid_forest.best_score_"
   ]
  },
  {
   "cell_type": "code",
   "execution_count": 60,
   "id": "2bbef6f8",
   "metadata": {},
   "outputs": [
    {
     "data": {
      "text/plain": [
       "2.249677616696233"
      ]
     },
     "execution_count": 60,
     "metadata": {},
     "output_type": "execute_result"
    }
   ],
   "source": [
    "(grid_forest.best_score_ - grid_log.best_score_) * 100"
   ]
  },
  {
   "cell_type": "markdown",
   "id": "4fe4c4aa",
   "metadata": {},
   "source": [
    "**What feature has the weakest impact in the Random Forest model?**"
   ]
  },
  {
   "cell_type": "code",
   "execution_count": 63,
   "id": "84903515",
   "metadata": {},
   "outputs": [
    {
     "data": {
      "text/html": [
       "<div>\n",
       "<style scoped>\n",
       "    .dataframe tbody tr th:only-of-type {\n",
       "        vertical-align: middle;\n",
       "    }\n",
       "\n",
       "    .dataframe tbody tr th {\n",
       "        vertical-align: top;\n",
       "    }\n",
       "\n",
       "    .dataframe thead th {\n",
       "        text-align: right;\n",
       "    }\n",
       "</style>\n",
       "<table border=\"1\" class=\"dataframe\">\n",
       "  <thead>\n",
       "    <tr style=\"text-align: right;\">\n",
       "      <th></th>\n",
       "      <th>importance</th>\n",
       "    </tr>\n",
       "  </thead>\n",
       "  <tbody>\n",
       "    <tr>\n",
       "      <th>age</th>\n",
       "      <td>0.117583</td>\n",
       "    </tr>\n",
       "    <tr>\n",
       "      <th>NumberOfTime30-59DaysPastDueNotWorse</th>\n",
       "      <td>0.295302</td>\n",
       "    </tr>\n",
       "    <tr>\n",
       "      <th>DebtRatio</th>\n",
       "      <td>0.081423</td>\n",
       "    </tr>\n",
       "    <tr>\n",
       "      <th>NumberOfTimes90DaysLate</th>\n",
       "      <td>0.281716</td>\n",
       "    </tr>\n",
       "    <tr>\n",
       "      <th>NumberOfTime60-89DaysPastDueNotWorse</th>\n",
       "      <td>0.149937</td>\n",
       "    </tr>\n",
       "    <tr>\n",
       "      <th>MonthlyIncome</th>\n",
       "      <td>0.059761</td>\n",
       "    </tr>\n",
       "    <tr>\n",
       "      <th>NumberOfDependents</th>\n",
       "      <td>0.014278</td>\n",
       "    </tr>\n",
       "  </tbody>\n",
       "</table>\n",
       "</div>"
      ],
      "text/plain": [
       "                                      importance\n",
       "age                                     0.117583\n",
       "NumberOfTime30-59DaysPastDueNotWorse    0.295302\n",
       "DebtRatio                               0.081423\n",
       "NumberOfTimes90DaysLate                 0.281716\n",
       "NumberOfTime60-89DaysPastDueNotWorse    0.149937\n",
       "MonthlyIncome                           0.059761\n",
       "NumberOfDependents                      0.014278"
      ]
     },
     "execution_count": 63,
     "metadata": {},
     "output_type": "execute_result"
    }
   ],
   "source": [
    "show_feature_importances(grid_forest.best_estimator_.feature_importances_, X_train.columns)"
   ]
  },
  {
   "cell_type": "markdown",
   "id": "8f949027",
   "metadata": {},
   "source": [
    "### Bagging"
   ]
  },
  {
   "cell_type": "markdown",
   "id": "b3f3448e",
   "metadata": {},
   "source": [
    "**What the best ROC AUC you've got for bagging with logistic regression as a base estimator?**"
   ]
  },
  {
   "cell_type": "code",
   "execution_count": 67,
   "id": "2a8936c8",
   "metadata": {},
   "outputs": [],
   "source": [
    "bag_params = {'max_features': [2, 3, 4], 'max_samples': [0.5, 0.7, 0.9], \n",
    "              'base_estimator__C': [0.0001, 0.001, 0.01, 1, 10, 100]}\n",
    "\n",
    "bag_clf = BaggingClassifier(base_estimator=LogisticRegression(), n_estimators=100, random_state=42)\n",
    "random_bag = RandomizedSearchCV(bag_clf, bag_params, n_iter=20, scoring='roc_auc', n_jobs=-1, \n",
    "                                cv=skf, random_state=1)"
   ]
  },
  {
   "cell_type": "code",
   "execution_count": 68,
   "id": "815a197d",
   "metadata": {},
   "outputs": [
    {
     "name": "stdout",
     "output_type": "stream",
     "text": [
      "CPU times: user 30.1 s, sys: 1.44 s, total: 31.5 s\n",
      "Wall time: 6min 2s\n"
     ]
    },
    {
     "data": {
      "text/plain": [
       "RandomizedSearchCV(cv=StratifiedKFold(n_splits=5, random_state=5, shuffle=True),\n",
       "                   estimator=BaggingClassifier(base_estimator=LogisticRegression(),\n",
       "                                               n_estimators=100,\n",
       "                                               random_state=42),\n",
       "                   n_iter=20, n_jobs=-1,\n",
       "                   param_distributions={'base_estimator__C': [0.0001, 0.001,\n",
       "                                                              0.01, 1, 10,\n",
       "                                                              100],\n",
       "                                        'max_features': [2, 3, 4],\n",
       "                                        'max_samples': [0.5, 0.7, 0.9]},\n",
       "                   random_state=1, scoring='roc_auc')"
      ]
     },
     "execution_count": 68,
     "metadata": {},
     "output_type": "execute_result"
    }
   ],
   "source": [
    "%%time\n",
    "random_bag.fit(X_train, y_train)"
   ]
  },
  {
   "cell_type": "code",
   "execution_count": 70,
   "id": "8062f7f7",
   "metadata": {},
   "outputs": [
    {
     "data": {
      "text/plain": [
       "0.7771115246356165"
      ]
     },
     "execution_count": 70,
     "metadata": {},
     "output_type": "execute_result"
    }
   ],
   "source": [
    "random_bag.best_score_"
   ]
  },
  {
   "cell_type": "code",
   "execution_count": 69,
   "id": "3cbfd1c6",
   "metadata": {},
   "outputs": [
    {
     "data": {
      "text/plain": [
       "{'max_samples': 0.7, 'max_features': 2, 'base_estimator__C': 100}"
      ]
     },
     "execution_count": 69,
     "metadata": {},
     "output_type": "execute_result"
    }
   ],
   "source": [
    "random_bag.best_params_"
   ]
  },
  {
   "cell_type": "code",
   "execution_count": null,
   "id": "e38ab29c",
   "metadata": {},
   "outputs": [],
   "source": []
  }
 ],
 "metadata": {
  "kernelspec": {
   "display_name": "Python 3",
   "language": "python",
   "name": "python3"
  },
  "language_info": {
   "codemirror_mode": {
    "name": "ipython",
    "version": 3
   },
   "file_extension": ".py",
   "mimetype": "text/x-python",
   "name": "python",
   "nbconvert_exporter": "python",
   "pygments_lexer": "ipython3",
   "version": "3.9.6"
  }
 },
 "nbformat": 4,
 "nbformat_minor": 5
}
