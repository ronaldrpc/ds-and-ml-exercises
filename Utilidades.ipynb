{
 "cells": [
  {
   "cell_type": "code",
   "execution_count": null,
   "id": "cf6a9dce",
   "metadata": {},
   "outputs": [],
   "source": []
  },
  {
   "cell_type": "code",
   "execution_count": 1,
   "id": "cddc6b46",
   "metadata": {},
   "outputs": [],
   "source": [
    "# For random forest\n",
    "def show_feature_importances(coefs, columns, abs_=False, normalize=False, ascending_=False):\n",
    "    \"\"\"\n",
    "    Random forest and multi-logistic regression (softmax)\n",
    "    \"\"\"\n",
    "    #flatten() returns a copy, so there's no need for set the parameter copy=True \n",
    "    df = pd.DataFrame(data=coefs.flatten(), columns=['importance'], index=columns) \n",
    "    if(abs_):\n",
    "        df['importance'] = np.abs(df['importance'])\n",
    "    if(normalize):\n",
    "        df['importance'] = (df['importance']-min(df['importance']))/(max(df['importance'])-min(df['importance']))\n",
    "    \n",
    "    df.sort_values(by='importance', ascending=ascending_, inplace=True)\n",
    "    return df"
   ]
  },
  {
   "cell_type": "code",
   "execution_count": 2,
   "id": "e317c316",
   "metadata": {},
   "outputs": [],
   "source": [
    "# For linear models\n",
    "def show_feature_influences():\n",
    "    \"\"\"\n",
    "    Linear models -> .coef_\n",
    "    \"\"\"\n",
    "    pd.Series(data=lasso.coef_, index=X_train.columns).sort_values(ascending=False)"
   ]
  },
  {
   "cell_type": "code",
   "execution_count": null,
   "id": "00457cc7",
   "metadata": {},
   "outputs": [],
   "source": []
  }
 ],
 "metadata": {
  "kernelspec": {
   "display_name": "Python 3",
   "language": "python",
   "name": "python3"
  },
  "language_info": {
   "codemirror_mode": {
    "name": "ipython",
    "version": 3
   },
   "file_extension": ".py",
   "mimetype": "text/x-python",
   "name": "python",
   "nbconvert_exporter": "python",
   "pygments_lexer": "ipython3",
   "version": "3.9.6"
  }
 },
 "nbformat": 4,
 "nbformat_minor": 5
}
